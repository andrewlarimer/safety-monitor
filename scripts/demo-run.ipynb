{
 "cells": [
  {
   "cell_type": "code",
   "execution_count": null,
   "metadata": {},
   "outputs": [],
   "source": [
    "import cv2 as cv\n",
    "import os\n",
    "import numpy as np\n",
    "import time\n",
    "import datetime\n",
    "import random as rnd\n",
    "import os\n",
    "import sys\n",
    "from yolo import YOLO, detect_video\n",
    "from PIL import Image\n",
    "import random as rnd"
   ]
  },
  {
   "cell_type": "code",
   "execution_count": null,
   "metadata": {},
   "outputs": [],
   "source": [
    "PATH_TO_VIDEO_STREAM = 'cv2/images'  # os.makedirs(PATH_TO_VIDEO_STREAM) if needed\n",
    " \n",
    "img_lst=os.listdir(PATH_TO_VIDEO_STREAM)\n",
    "\n",
    "img_path_name=os.path.join(PATH_TO_VIDEO_STREAM, img_lst[0])\n",
    "\n",
    "top = 140  # padding settings\n",
    "bottom = top\n",
    "\n",
    "print('loading yolo...')\n",
    "yoLo=YOLO() # takes a while to load\n"
   ]
  },
  {
   "cell_type": "code",
   "execution_count": null,
   "metadata": {},
   "outputs": [],
   "source": [
    "ts = time.time()\n",
    "st = datetime.datetime.fromtimestamp(ts).strftime('%Y-%m-%d %H:%M:%S')\n",
    "st='test'\n",
    "filename = './cv2/images/' + st + \".png\"\n",
    "vid=cv.VideoCapture(0)\n",
    "vid.set(cv.CAP_PROP_FRAME_WIDTH, 640)\n",
    "vid.set(cv.CAP_PROP_FRAME_HEIGHT, 360)\n",
    "return_value, frame = vid.read()\n",
    "vid.release()\n",
    "frame_pad=cv.copyMakeBorder(frame, top, bottom, 0, 0, cv.BORDER_CONSTANT)\n",
    "cv.imwrite(filename, frame_pad)\n",
    "image = Image.fromarray(frame_pad)\n",
    "# r_image = yoLo.detect_image(image= image, filename=img_path_name) # returns a list object [filename.jpg, (left, top), (right, bottom)] for a single image\n",
    "\n",
    "for r_img in r_image:\n",
    "    # print(r_img)\n",
    "    num1=rnd.randint(0,255)\n",
    "    num2=rnd.randint(0,255)\n",
    "    cv.rectangle(frame_pad,r_img[-2],r_img[-1],(num1,num2,255),4)\n",
    "    cv.putText(frame_pad, r_img[1].split(' ')[0],r_img[-2], font, 1, (num1,num2,255), 4, cv.LINE_AA)\n",
    "\n",
    "font = cv.FONT_HERSHEY_SIMPLEX\n",
    "cv.imshow(filename, frame_pad)\n",
    "cv.waitKey(0)\n",
    "cv.destroyAllWindows()"
   ]
  }
 ],
 "metadata": {
  "kernelspec": {
   "display_name": "Python 3",
   "language": "python",
   "name": "python3"
  },
  "language_info": {
   "codemirror_mode": {
    "name": "ipython",
    "version": 3
   },
   "file_extension": ".py",
   "mimetype": "text/x-python",
   "name": "python",
   "nbconvert_exporter": "python",
   "pygments_lexer": "ipython3",
   "version": "3.6.7"
  }
 },
 "nbformat": 4,
 "nbformat_minor": 2
}
