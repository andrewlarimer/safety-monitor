{
 "cells": [
  {
   "cell_type": "code",
   "execution_count": 66,
   "metadata": {},
   "outputs": [],
   "source": [
    "import numpy as np\n",
    "\n",
    "xs = np.linspace(0.008, 0.5, 6)\n",
    "image_sizes = (640,360)\n",
    "\n",
    "full_list = []\n",
    "for x in xs:\n",
    "    if x*1.125 <= 1:\n",
    "        full_list.append((x,x*1.125, 3))\n",
    "    if x*3 <= 1:\n",
    "        full_list.append((x*4, x*8))"
   ]
  },
  {
   "cell_type": "code",
   "execution_count": 67,
   "metadata": {},
   "outputs": [],
   "source": [
    "def assign_pixel_values(anchor_pair=full_list, image_sizes=image_sizes):\n",
    "    adjusted_values = (int(anchor_pair[0] * image_sizes[0]), int(anchor_pair[1] * image_sizes[1]))\n",
    "    return adjusted_values\n",
    "\n",
    "pixel_list = map(assign_pixel_values, full_list)"
   ]
  },
  {
   "cell_type": "code",
   "execution_count": 68,
   "metadata": {},
   "outputs": [],
   "source": [
    "list_of_str_pairs = []\n",
    "\n",
    "for iteration in pixel_list:\n",
    "    list_of_str_pairs.append(str(f\"{iteration[0]},{iteration[1]}\"))"
   ]
  },
  {
   "cell_type": "code",
   "execution_count": 69,
   "metadata": {
    "scrolled": true
   },
   "outputs": [
    {
     "data": {
      "text/plain": [
       "['5,3',\n",
       " '20,23',\n",
       " '68,43',\n",
       " '272,306',\n",
       " '131,82',\n",
       " '524,589',\n",
       " '194,122',\n",
       " '776,873',\n",
       " '257,162',\n",
       " '320,202']"
      ]
     },
     "execution_count": 69,
     "metadata": {},
     "output_type": "execute_result"
    }
   ],
   "source": [
    "list_of_str_pairs"
   ]
  },
  {
   "cell_type": "code",
   "execution_count": 70,
   "metadata": {},
   "outputs": [],
   "source": [
    "with open('../construction_labels/construction_anchors.txt','w') as f:\n",
    "    f.write(\", \".join(list_of_str_pairs))"
   ]
  },
  {
   "cell_type": "code",
   "execution_count": null,
   "metadata": {},
   "outputs": [],
   "source": []
  }
 ],
 "metadata": {
  "kernelspec": {
   "display_name": "Python 3",
   "language": "python",
   "name": "python3"
  },
  "language_info": {
   "codemirror_mode": {
    "name": "ipython",
    "version": 3
   },
   "file_extension": ".py",
   "mimetype": "text/x-python",
   "name": "python",
   "nbconvert_exporter": "python",
   "pygments_lexer": "ipython3",
   "version": "3.7.1"
  }
 },
 "nbformat": 4,
 "nbformat_minor": 2
}
