{
 "cells": [
  {
   "cell_type": "code",
   "execution_count": 105,
   "metadata": {},
   "outputs": [],
   "source": [
    "import re\n",
    "import numpy as np\n",
    "\n",
    "PERCENT_FOR_DEV = .15\n",
    "PERCENT_FOR_TEST = .1\n",
    "DIRECTORY='./construction_dataset/'"
   ]
  },
  {
   "cell_type": "code",
   "execution_count": 106,
   "metadata": {},
   "outputs": [],
   "source": [
    "with open('../tensorflow-yolov3/construction_dataset/dataset.txt','r') as f:\n",
    "    d = f.readlines()"
   ]
  },
  {
   "cell_type": "code",
   "execution_count": 119,
   "metadata": {},
   "outputs": [],
   "source": [
    "doubled_d = []\n",
    "\n",
    "for entry in d:\n",
    "    \n",
    "    L1 = re.sub('hardhat','0',entry)\n",
    "    L2 = re.sub('person','1',L1)\n",
    "    L3 = re.sub('safetyvest','2',L2)\n",
    "    final_string = DIRECTORY + L3\n",
    "    \n",
    "    item_list = final_string.split(' ')\n",
    "    metronome = 0\n",
    "    flipped_list = [re.sub('.jpeg','__fliph.jpeg',item_list[0])]\n",
    "    for idx,item in enumerate(item_list[1:]):\n",
    "        if metronome == 0:\n",
    "            new_xmax = round(640-float(item), 2)\n",
    "        elif metronome == 1:\n",
    "            ymin = item\n",
    "        elif metronome == 2:\n",
    "            new_xmin = round(640-float(item), 2)\n",
    "        elif metronome == 3:\n",
    "            ymax = item\n",
    "        elif metronome == 4:\n",
    "            class_id = item\n",
    "        metronome += 1\n",
    "        if metronome == 5:\n",
    "            flipped_list = flipped_list + [str(new_xmin), str(ymin), str(new_xmax), str(ymax), class_id]\n",
    "            metronome = 0\n",
    "    flipped_string = \" \".join(flipped_list)\n",
    "    \n",
    "    doubled_d.append(final_string)\n",
    "    doubled_d.append(flipped_string)"
   ]
  },
  {
   "cell_type": "code",
   "execution_count": 108,
   "metadata": {},
   "outputs": [],
   "source": [
    "non_train_idxs = np.random.choice(range(0,len(doubled_d)),int(len(doubled_d)*(PERCENT_FOR_TEST + PERCENT_FOR_DEV)), replace=False)\n",
    "dev_percent_of_non_train = PERCENT_FOR_DEV / (PERCENT_FOR_DEV + PERCENT_FOR_TEST)\n",
    "dev_idxs = np.random.choice(non_train_idxs,int(len(non_train_idxs)*dev_percent_of_non_train), replace=False)\n",
    "dev_idxs_set = set(dev_idxs)\n",
    "non_train_set = set(non_train_idxs)"
   ]
  },
  {
   "cell_type": "code",
   "execution_count": 121,
   "metadata": {},
   "outputs": [],
   "source": [
    "train_list = []\n",
    "dev_list = []\n",
    "test_list = []\n",
    "\n",
    "for idx, line in enumerate(doubled_d):\n",
    "    if idx in non_train_set:\n",
    "        if idx in dev_idxs_set:\n",
    "            dev_list.append(line)\n",
    "        else:\n",
    "            test_list.append(line)\n",
    "    else:\n",
    "        train_list.append(line)"
   ]
  },
  {
   "cell_type": "code",
   "execution_count": 123,
   "metadata": {},
   "outputs": [],
   "source": [
    "with open('../tensorflow-yolov3/construction_dataset/construction_train.txt','w') as f:\n",
    "    f.writelines(train_list)\n",
    "\n",
    "with open('../tensorflow-yolov3/construction_dataset/construction_dev.txt','w') as f:\n",
    "    f.writelines(test_list)\n",
    "    \n",
    "with open('../tensorflow-yolov3/construction_dataset/construction_test.txt','w') as f:\n",
    "    f.writelines(dev_list)"
   ]
  },
  {
   "cell_type": "code",
   "execution_count": null,
   "metadata": {},
   "outputs": [],
   "source": []
  }
 ],
 "metadata": {
  "kernelspec": {
   "display_name": "Python 3",
   "language": "python",
   "name": "python3"
  },
  "language_info": {
   "codemirror_mode": {
    "name": "ipython",
    "version": 3
   },
   "file_extension": ".py",
   "mimetype": "text/x-python",
   "name": "python",
   "nbconvert_exporter": "python",
   "pygments_lexer": "ipython3",
   "version": "3.7.1"
  }
 },
 "nbformat": 4,
 "nbformat_minor": 2
}
