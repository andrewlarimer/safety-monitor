{
 "cells": [
  {
   "cell_type": "markdown",
   "metadata": {},
   "source": [
    "### Objectives\n",
    "1. Get 50 frames from each video\n",
    "2. At a rate of 1 frame per second of video"
   ]
  },
  {
   "cell_type": "code",
   "execution_count": 272,
   "metadata": {},
   "outputs": [],
   "source": [
    "import cv2\n",
    "import os\n",
    "import moviepy.editor as mpe\n",
    "from tqdm import tqdm\n",
    "import pandas as pd\n",
    "from collections import namedtuple\n",
    "import numpy as np"
   ]
  },
  {
   "cell_type": "markdown",
   "metadata": {},
   "source": [
    "### Capture images from video stream \n",
    "\n",
    "If the predictions with bounding boxes are captured as a video stream, the images / frames can be extracted from that as shown below. \n"
   ]
  },
  {
   "cell_type": "code",
   "execution_count": 2,
   "metadata": {},
   "outputs": [],
   "source": [
    "vidcap = cv2.VideoCapture('prediction_animation.mp4')\n",
    "success,image = vidcap.read()"
   ]
  },
  {
   "cell_type": "code",
   "execution_count": 3,
   "metadata": {},
   "outputs": [
    {
     "name": "stdout",
     "output_type": "stream",
     "text": [
      "True\n",
      "(700, 1236, 3)\n"
     ]
    }
   ],
   "source": [
    "print(success)\n",
    "print(image.shape)"
   ]
  },
  {
   "cell_type": "code",
   "execution_count": 4,
   "metadata": {},
   "outputs": [],
   "source": [
    "IMG_SAVE_PATH='images/' # folder to save images in"
   ]
  },
  {
   "cell_type": "code",
   "execution_count": 5,
   "metadata": {},
   "outputs": [],
   "source": [
    "count = 0\n",
    "success = True\n",
    "while success:\n",
    "    success,image = vidcap.read()\n",
    "    cv2.imwrite(IMG_SAVE_PATH+\"frame%d.jpg\" % count, image)     # save frame as JPEG file\n",
    "    if cv2.waitKey(0) == 27:                     # exit if Escape is hit\n",
    "        break    \n",
    "    count += 1"
   ]
  },
  {
   "cell_type": "markdown",
   "metadata": {},
   "source": [
    "### Process video to capture frame/images"
   ]
  },
  {
   "cell_type": "code",
   "execution_count": 6,
   "metadata": {},
   "outputs": [],
   "source": [
    "VID_PATH_GET='input_video/'\n",
    "VID_PATH_SAVE='video_images/' # folder to save images in"
   ]
  },
  {
   "cell_type": "code",
   "execution_count": 7,
   "metadata": {},
   "outputs": [
    {
     "name": "stdout",
     "output_type": "stream",
     "text": [
      "['prediction_animation.mp4']\n"
     ]
    }
   ],
   "source": [
    "# get all .mp4 files for processing\n",
    "lst=os.listdir(VID_PATH_GET) # folder with .mp4 files \n",
    "vidlst=sorted([i for i in lst if '.mp4' in i])\n",
    "print(vidlst)"
   ]
  },
  {
   "cell_type": "markdown",
   "metadata": {},
   "source": [
    "### Clean-up folder to hold images"
   ]
  },
  {
   "cell_type": "code",
   "execution_count": 8,
   "metadata": {},
   "outputs": [
    {
     "name": "stdout",
     "output_type": "stream",
     "text": [
      "[WinError 183] Cannot create a file when that file already exists: 'video_images/'\n",
      "Do you want to delete all .jpeg from directory? y/n y\n"
     ]
    }
   ],
   "source": [
    "# make/clear frame save dir\n",
    "try:\n",
    "    os.mkdir(VID_PATH_SAVE)\n",
    "except FileExistsError as f:\n",
    "    print(f)\n",
    "    pass\n",
    "    \n",
    "# clear out save directory for frames\n",
    "inpt=input('Do you want to delete all .jpeg from directory? y/n ')\n",
    "if inpt=='y': [os.remove(VID_PATH_SAVE+i) for i in os.listdir('video_images') if '.jpeg' in i]\n",
    "    #[os.remove(i) for i in os.listdir('video_images//') ]"
   ]
  },
  {
   "cell_type": "code",
   "execution_count": 9,
   "metadata": {},
   "outputs": [
    {
     "name": "stderr",
     "output_type": "stream",
     "text": [
      "100%|████████████████████████████████████████████████████████████████████████████████████| 1/1 [00:12<00:00, 12.85s/it]\n"
     ]
    }
   ],
   "source": [
    "# get a 50 sec clip with one frame per second with some buffer to start (e.g 20 secs), if the vid is long enough\n",
    "max_segment_length=50; start=10\n",
    "\n",
    "err_lst,vid_proc=[],[] # list of vids not processed, list of processed vids\n",
    "\n",
    "counter=0\n",
    "for vid in tqdm(vidlst):\n",
    "    vid = vidlst[0]\n",
    "    video = mpe.VideoFileClip(VID_PATH_GET+vid)\n",
    "    start=1 if video.duration < max_segment_length else video.duration-max_segment_length\n",
    "    finish=max_segment_length+start if video.duration > max_segment_length+start else video.duration\n",
    "\n",
    "    for t in range(0,int(video.duration),max(1,int(video.duration/50))):\n",
    "        try:\n",
    "            video.save_frame(VID_PATH_SAVE+'{}_{}.jpeg'.\n",
    "                             format(vid.split('.mp4')[0].strip(), counter), t=t) # save frame at t=2 as JPEG\n",
    "            vid_proc.append((vid,': ',video.duration))\n",
    "        except:\n",
    "            err_lst.append('{} had OS error and was not processed'.format(vid))\n",
    "            pass\n",
    "\n",
    "        counter+=1"
   ]
  },
  {
   "cell_type": "code",
   "execution_count": null,
   "metadata": {},
   "outputs": [],
   "source": []
  },
  {
   "cell_type": "markdown",
   "metadata": {},
   "source": [
    "### Process 'Results' file to get objects with valid overlaps\n",
    "\n",
    "We are primarily looking to see if the person in the frame (assuming, they are at the construction site) have the safety vest and hard hat on them and this can be validated from the bounding box information of the objects.  Since safety vest and hardhats are worn by the person, we can make the assumption that the coordinates of the bounding box will have high overlap or intersection area (compared with the smaller object). \n",
    "\n",
    "The logic below takes this approach and identifies if the person in frame has a matching safety vest and/or hardhat identified.  There may be scenarios, where in the object in the frame is cut-off (because of the way the picture was taken) and so, the person may be identified, but the hard hat may not show up in the frame and so, the person will not get tagged as having a hard hat on them. "
   ]
  },
  {
   "cell_type": "code",
   "execution_count": 273,
   "metadata": {},
   "outputs": [],
   "source": [
    "# define a named tuple to hold objects that need to be compared by their bounding box information\n",
    "Detection = namedtuple(\"Detection\", [\"Box1Category\", \"Box2Category\", \"bb_box1\", \"bb_box2\"])"
   ]
  },
  {
   "cell_type": "code",
   "execution_count": 236,
   "metadata": {},
   "outputs": [],
   "source": [
    "def get_BoundingBox_IOU_Overlap(boxA, boxB):\n",
    "    # determine the (x, y)-coordinates of the intersection rectangle\n",
    "    xA = max(boxA[0], boxB[0])\n",
    "    yA = max(boxA[1], boxB[1])\n",
    "    xB = min(boxA[2], boxB[2])\n",
    "    yB = min(boxA[3], boxB[3])\n",
    " \n",
    "    # compute the area of intersection rectangle\n",
    "    interArea = max(0, xB - xA + 1) * max(0, yB - yA + 1)\n",
    " \n",
    "    # compute the area of both the prediction and ground-truth\n",
    "    # rectangles\n",
    "    boxAArea = (boxA[2] - boxA[0] + 1) * (boxA[3] - boxA[1] + 1)\n",
    "    boxBArea = (boxB[2] - boxB[0] + 1) * (boxB[3] - boxB[1] + 1)\n",
    " \n",
    "    # compute the intersection over union by taking the intersection\n",
    "    # area and dividing it by the sum of prediction + ground-truth\n",
    "    # areas - the interesection area\n",
    "    iou = interArea / float(boxAArea + boxBArea - interArea)\n",
    "    percent_overlap = interArea / boxBArea\n",
    "    \n",
    "    #print(\"boxAArea: {}, boxBArea: {}, inter-area: {}, and iou: {}, and percent overlap: {}\".format(boxAArea, boxBArea, interArea, iou, percent_overlap))\n",
    " \n",
    "    # return the intersection over union value\n",
    "    return round(iou,4), round(percent_overlap,4)"
   ]
  },
  {
   "cell_type": "code",
   "execution_count": 237,
   "metadata": {},
   "outputs": [],
   "source": [
    "# example of how the data structure would look like\n",
    "object_detection = [\n",
    "    Detection(\"Person\", \"Vest\", [403, 237, 414, 264], [404, 239, 415, 255]),\n",
    "    Detection(\"Person\", \"Vest\", [403, 237, 414, 264], [446, 203, 452, 206]),\n",
    "    Detection(\"Person\", \"HardHat\", [403, 237, 414, 264], [407, 237, 413, 241]),\n",
    "    Detection(\"Person\", \"Vest\", [403, 237, 414, 264], [410, 263, 425, 275])\n",
    "]"
   ]
  },
  {
   "cell_type": "code",
   "execution_count": 238,
   "metadata": {},
   "outputs": [],
   "source": [
    "for detection in object_detection:\n",
    "    iou = get_BoundingBox_IOU_Overlap(detection.bb_box1, detection.bb_box2)\n",
    "    #print(\"iou: \", iou)"
   ]
  },
  {
   "cell_type": "markdown",
   "metadata": {},
   "source": [
    "### Read the results file for processing\n",
    "\n",
    "The results file holds information for objects detected, the confidence scores and the coordinate details etc.  For each person identified, we are trying to validate that they are having a safety vest and hard hat on them.  For this, we use the area of overlap and the IOU between the two bounding boxes."
   ]
  },
  {
   "cell_type": "code",
   "execution_count": 239,
   "metadata": {},
   "outputs": [],
   "source": [
    "df = pd.read_csv('result_files/Sequence02_90.txt', sep=' ',header=None, usecols=[0, 1,2,3,4,5])\n",
    "df.columns = ['Category', 'ConfidenceScore', 'xmin', 'ymin', 'xmax', 'ymax']"
   ]
  },
  {
   "cell_type": "code",
   "execution_count": 240,
   "metadata": {},
   "outputs": [],
   "source": [
    "df_person = df[df['Category']=='person'].reset_index(drop=True)\n",
    "df_safetyvest = df[df['Category']=='safetyvest'].reset_index(drop=True)\n",
    "df_hardhat = df[df['Category']=='hardhat'].reset_index(drop=True)"
   ]
  },
  {
   "cell_type": "code",
   "execution_count": 241,
   "metadata": {},
   "outputs": [
    {
     "data": {
      "text/html": [
       "<div>\n",
       "<style scoped>\n",
       "    .dataframe tbody tr th:only-of-type {\n",
       "        vertical-align: middle;\n",
       "    }\n",
       "\n",
       "    .dataframe tbody tr th {\n",
       "        vertical-align: top;\n",
       "    }\n",
       "\n",
       "    .dataframe thead th {\n",
       "        text-align: right;\n",
       "    }\n",
       "</style>\n",
       "<table border=\"1\" class=\"dataframe\">\n",
       "  <thead>\n",
       "    <tr style=\"text-align: right;\">\n",
       "      <th></th>\n",
       "      <th>Category</th>\n",
       "      <th>ConfidenceScore</th>\n",
       "      <th>xmin</th>\n",
       "      <th>ymin</th>\n",
       "      <th>xmax</th>\n",
       "      <th>ymax</th>\n",
       "    </tr>\n",
       "  </thead>\n",
       "  <tbody>\n",
       "    <tr>\n",
       "      <th>0</th>\n",
       "      <td>person</td>\n",
       "      <td>0.73</td>\n",
       "      <td>466</td>\n",
       "      <td>142</td>\n",
       "      <td>513</td>\n",
       "      <td>202</td>\n",
       "    </tr>\n",
       "    <tr>\n",
       "      <th>1</th>\n",
       "      <td>person</td>\n",
       "      <td>0.81</td>\n",
       "      <td>524</td>\n",
       "      <td>179</td>\n",
       "      <td>559</td>\n",
       "      <td>255</td>\n",
       "    </tr>\n",
       "    <tr>\n",
       "      <th>2</th>\n",
       "      <td>person</td>\n",
       "      <td>0.92</td>\n",
       "      <td>381</td>\n",
       "      <td>139</td>\n",
       "      <td>463</td>\n",
       "      <td>293</td>\n",
       "    </tr>\n",
       "    <tr>\n",
       "      <th>3</th>\n",
       "      <td>person</td>\n",
       "      <td>0.95</td>\n",
       "      <td>276</td>\n",
       "      <td>136</td>\n",
       "      <td>360</td>\n",
       "      <td>305</td>\n",
       "    </tr>\n",
       "    <tr>\n",
       "      <th>4</th>\n",
       "      <td>person</td>\n",
       "      <td>0.98</td>\n",
       "      <td>418</td>\n",
       "      <td>184</td>\n",
       "      <td>556</td>\n",
       "      <td>415</td>\n",
       "    </tr>\n",
       "    <tr>\n",
       "      <th>5</th>\n",
       "      <td>person</td>\n",
       "      <td>0.99</td>\n",
       "      <td>5</td>\n",
       "      <td>216</td>\n",
       "      <td>182</td>\n",
       "      <td>367</td>\n",
       "    </tr>\n",
       "  </tbody>\n",
       "</table>\n",
       "</div>"
      ],
      "text/plain": [
       "  Category  ConfidenceScore  xmin  ymin  xmax  ymax\n",
       "0   person             0.73   466   142   513   202\n",
       "1   person             0.81   524   179   559   255\n",
       "2   person             0.92   381   139   463   293\n",
       "3   person             0.95   276   136   360   305\n",
       "4   person             0.98   418   184   556   415\n",
       "5   person             0.99     5   216   182   367"
      ]
     },
     "execution_count": 241,
     "metadata": {},
     "output_type": "execute_result"
    }
   ],
   "source": [
    "df_person"
   ]
  },
  {
   "cell_type": "code",
   "execution_count": 242,
   "metadata": {},
   "outputs": [
    {
     "data": {
      "text/html": [
       "<div>\n",
       "<style scoped>\n",
       "    .dataframe tbody tr th:only-of-type {\n",
       "        vertical-align: middle;\n",
       "    }\n",
       "\n",
       "    .dataframe tbody tr th {\n",
       "        vertical-align: top;\n",
       "    }\n",
       "\n",
       "    .dataframe thead th {\n",
       "        text-align: right;\n",
       "    }\n",
       "</style>\n",
       "<table border=\"1\" class=\"dataframe\">\n",
       "  <thead>\n",
       "    <tr style=\"text-align: right;\">\n",
       "      <th></th>\n",
       "      <th>Category</th>\n",
       "      <th>ConfidenceScore</th>\n",
       "      <th>xmin</th>\n",
       "      <th>ymin</th>\n",
       "      <th>xmax</th>\n",
       "      <th>ymax</th>\n",
       "    </tr>\n",
       "  </thead>\n",
       "  <tbody>\n",
       "    <tr>\n",
       "      <th>0</th>\n",
       "      <td>safetyvest</td>\n",
       "      <td>0.57</td>\n",
       "      <td>527</td>\n",
       "      <td>191</td>\n",
       "      <td>556</td>\n",
       "      <td>230</td>\n",
       "    </tr>\n",
       "    <tr>\n",
       "      <th>1</th>\n",
       "      <td>safetyvest</td>\n",
       "      <td>0.59</td>\n",
       "      <td>294</td>\n",
       "      <td>151</td>\n",
       "      <td>352</td>\n",
       "      <td>240</td>\n",
       "    </tr>\n",
       "    <tr>\n",
       "      <th>2</th>\n",
       "      <td>safetyvest</td>\n",
       "      <td>0.72</td>\n",
       "      <td>390</td>\n",
       "      <td>142</td>\n",
       "      <td>448</td>\n",
       "      <td>225</td>\n",
       "    </tr>\n",
       "    <tr>\n",
       "      <th>3</th>\n",
       "      <td>safetyvest</td>\n",
       "      <td>0.72</td>\n",
       "      <td>423</td>\n",
       "      <td>181</td>\n",
       "      <td>553</td>\n",
       "      <td>374</td>\n",
       "    </tr>\n",
       "    <tr>\n",
       "      <th>4</th>\n",
       "      <td>safetyvest</td>\n",
       "      <td>0.73</td>\n",
       "      <td>50</td>\n",
       "      <td>212</td>\n",
       "      <td>163</td>\n",
       "      <td>296</td>\n",
       "    </tr>\n",
       "    <tr>\n",
       "      <th>5</th>\n",
       "      <td>safetyvest</td>\n",
       "      <td>0.87</td>\n",
       "      <td>467</td>\n",
       "      <td>152</td>\n",
       "      <td>511</td>\n",
       "      <td>191</td>\n",
       "    </tr>\n",
       "  </tbody>\n",
       "</table>\n",
       "</div>"
      ],
      "text/plain": [
       "     Category  ConfidenceScore  xmin  ymin  xmax  ymax\n",
       "0  safetyvest             0.57   527   191   556   230\n",
       "1  safetyvest             0.59   294   151   352   240\n",
       "2  safetyvest             0.72   390   142   448   225\n",
       "3  safetyvest             0.72   423   181   553   374\n",
       "4  safetyvest             0.73    50   212   163   296\n",
       "5  safetyvest             0.87   467   152   511   191"
      ]
     },
     "execution_count": 242,
     "metadata": {},
     "output_type": "execute_result"
    }
   ],
   "source": [
    "df_safetyvest"
   ]
  },
  {
   "cell_type": "code",
   "execution_count": 243,
   "metadata": {},
   "outputs": [
    {
     "data": {
      "text/html": [
       "<div>\n",
       "<style scoped>\n",
       "    .dataframe tbody tr th:only-of-type {\n",
       "        vertical-align: middle;\n",
       "    }\n",
       "\n",
       "    .dataframe tbody tr th {\n",
       "        vertical-align: top;\n",
       "    }\n",
       "\n",
       "    .dataframe thead th {\n",
       "        text-align: right;\n",
       "    }\n",
       "</style>\n",
       "<table border=\"1\" class=\"dataframe\">\n",
       "  <thead>\n",
       "    <tr style=\"text-align: right;\">\n",
       "      <th></th>\n",
       "      <th>Category</th>\n",
       "      <th>ConfidenceScore</th>\n",
       "      <th>xmin</th>\n",
       "      <th>ymin</th>\n",
       "      <th>xmax</th>\n",
       "      <th>ymax</th>\n",
       "    </tr>\n",
       "  </thead>\n",
       "  <tbody>\n",
       "    <tr>\n",
       "      <th>0</th>\n",
       "      <td>hardhat</td>\n",
       "      <td>0.46</td>\n",
       "      <td>461</td>\n",
       "      <td>186</td>\n",
       "      <td>526</td>\n",
       "      <td>255</td>\n",
       "    </tr>\n",
       "    <tr>\n",
       "      <th>1</th>\n",
       "      <td>hardhat</td>\n",
       "      <td>0.46</td>\n",
       "      <td>531</td>\n",
       "      <td>173</td>\n",
       "      <td>552</td>\n",
       "      <td>184</td>\n",
       "    </tr>\n",
       "    <tr>\n",
       "      <th>2</th>\n",
       "      <td>hardhat</td>\n",
       "      <td>0.81</td>\n",
       "      <td>19</td>\n",
       "      <td>214</td>\n",
       "      <td>68</td>\n",
       "      <td>255</td>\n",
       "    </tr>\n",
       "  </tbody>\n",
       "</table>\n",
       "</div>"
      ],
      "text/plain": [
       "  Category  ConfidenceScore  xmin  ymin  xmax  ymax\n",
       "0  hardhat             0.46   461   186   526   255\n",
       "1  hardhat             0.46   531   173   552   184\n",
       "2  hardhat             0.81    19   214    68   255"
      ]
     },
     "execution_count": 243,
     "metadata": {},
     "output_type": "execute_result"
    }
   ],
   "source": [
    "df_hardhat"
   ]
  },
  {
   "cell_type": "code",
   "execution_count": 288,
   "metadata": {},
   "outputs": [],
   "source": [
    "def get_object_details(category1, category2, c1_xmin, c1_ymin, c1_xmax, c1_ymax, c2_xmin, c2_ymin, c2_xmax, c2_ymax):\n",
    "    return (Detection(category1, category2, [c1_xmin, c1_ymin, c1_xmax, c1_ymax], [c2_xmin, c2_ymin, c2_xmax, c2_ymax]))\n"
   ]
  },
  {
   "cell_type": "code",
   "execution_count": 289,
   "metadata": {},
   "outputs": [],
   "source": [
    "person_safetyvest = []\n",
    "\n",
    "for p_index, p_row in df_person.iterrows():\n",
    "    for sv_index, sv_row in df_safetyvest.iterrows():\n",
    "        person_safetyvest.append(get_object_details(p_row['Category'], sv_row['Category'], \n",
    "                                                   p_row['xmin'], p_row['ymin'], p_row['xmax'], p_row['ymax'],\n",
    "                                                   sv_row['xmin'], sv_row['ymin'], sv_row['xmax'], sv_row['ymax']))"
   ]
  },
  {
   "cell_type": "code",
   "execution_count": 290,
   "metadata": {},
   "outputs": [],
   "source": [
    "for detection in person_safetyvest:\n",
    "    iou, percent_overlap = get_BoundingBox_IOU_Overlap(detection.bb_box1, detection.bb_box2)"
   ]
  },
  {
   "cell_type": "code",
   "execution_count": null,
   "metadata": {},
   "outputs": [],
   "source": []
  },
  {
   "cell_type": "code",
   "execution_count": 291,
   "metadata": {},
   "outputs": [],
   "source": [
    "for p_index, p_row in df_person.iterrows():\n",
    "    person_safetyvest=[]\n",
    "    for sv_index, sv_row in df_safetyvest.iterrows():\n",
    "        person_safetyvest.append(get_object_details(p_row['Category'], sv_row['Category'], \n",
    "                                                   p_row['xmin'], p_row['ymin'], p_row['xmax'], p_row['ymax'],\n",
    "                                                   sv_row['xmin'], sv_row['ymin'], sv_row['xmax'], sv_row['ymax']))\n",
    "\n",
    "    for detection in person_safetyvest:\n",
    "        iou, percent_overlap = get_BoundingBox_IOU_Overlap(detection.bb_box1, detection.bb_box2)\n",
    "        #print(\"Person: {} {} {} {} has IOU as {} and Overlap as {}\".format(p_row['xmin'], p_row['ymin'], p_row['xmax'], p_row['ymax'], iou, percent_overlap) )\n",
    "    \n",
    "    #print(\"\\n=====================================\\n\")"
   ]
  },
  {
   "cell_type": "code",
   "execution_count": 292,
   "metadata": {},
   "outputs": [],
   "source": [
    "for p_index, p_row in df_person.iterrows():\n",
    "    person_hardhat=[]\n",
    "    for hh_index, hh_row in df_hardhat.iterrows():\n",
    "        person_hardhat.append(get_object_details(p_row['Category'], hh_row['Category'], \n",
    "                                                   p_row['xmin'], p_row['ymin'], p_row['xmax'], p_row['ymax'],\n",
    "                                                   hh_row['xmin'], hh_row['ymin'], hh_row['xmax'], hh_row['ymax']))\n",
    "\n",
    "    iou_overlap = []\n",
    "    for detection in person_hardhat:\n",
    "        iou, percent_overlap = get_BoundingBox_IOU_Overlap(detection.bb_box1, detection.bb_box2)\n",
    "        #print(\"Person: {} {} {} {} has IOU as {} and Overlap as {}\".format(p_row['xmin'], p_row['ymin'], p_row['xmax'], p_row['ymax'], iou, percent_overlap) )\n",
    "        iou_overlap.append([iou, percent_overlap])\n",
    "    \n",
    "    #print(iou_overlap)\n",
    "    max_overlap=[0.0, 0.0]\n",
    "    \n",
    "    for result in iou_overlap:\n",
    "        if result[1] > max_overlap[1]:\n",
    "            max_overlap=result\n",
    "    #print(\"max overlap params for: \", iou_overlap[iou_overlap.index(max_overlap)])\n",
    "    #print(\"\\n=====================================\\n\")\n"
   ]
  },
  {
   "cell_type": "markdown",
   "metadata": {},
   "source": [
    "### Function to get object matches / overlap information\n",
    "\n",
    "The function below helps to compute the extent of overlap say between the bounding boxes for person and safety vest or for person and hardhat\n"
   ]
  },
  {
   "cell_type": "code",
   "execution_count": 293,
   "metadata": {},
   "outputs": [],
   "source": [
    "def get_object_overlap(parent_row, df_obj):\n",
    "    parent_overlap=[]\n",
    "    \n",
    "    parent_obj=[]\n",
    "    for sub_index, sub_row in df_obj.iterrows():\n",
    "        parent_obj.append(get_object_details(parent_row['Category'], sub_row['Category'], \n",
    "                                             parent_row['xmin'], parent_row['ymin'], parent_row['xmax'], parent_row['ymax'],\n",
    "                                             sub_row['xmin'], sub_row['ymin'], sub_row['xmax'], sub_row['ymax']))\n",
    "\n",
    "    iou_overlap = []\n",
    "    for detection in parent_obj:\n",
    "        iou, percent_overlap = get_BoundingBox_IOU_Overlap(detection.bb_box1, detection.bb_box2)\n",
    "        iou_overlap.append([iou, percent_overlap])\n",
    "    \n",
    "    #print(iou_overlap)\n",
    "    max_overlap=[0.0, 0.0]\n",
    "    \n",
    "    for result in iou_overlap:\n",
    "        if result[1] > max_overlap[1]:\n",
    "            max_overlap=result\n",
    "    \n",
    "    parent_overlap.append(max_overlap)\n",
    "    \n",
    "    return parent_overlap\n"
   ]
  },
  {
   "cell_type": "code",
   "execution_count": 294,
   "metadata": {},
   "outputs": [],
   "source": [
    "person_hardhat_overlap = []\n",
    "person_safetyvest_overlap = []\n",
    "\n",
    "for p_index, p_row in df_person.iterrows():\n",
    "    parent_overlap = get_object_overlap(p_row, df_hardhat)\n",
    "    person_hardhat_overlap.append(parent_overlap[0])\n",
    "\n",
    "    \n",
    "for p_index, p_row in df_person.iterrows():\n",
    "    parent_overlap = get_object_overlap(p_row, df_safetyvest)\n",
    "    person_safetyvest_overlap.append(parent_overlap[0])\n"
   ]
  },
  {
   "cell_type": "code",
   "execution_count": 295,
   "metadata": {},
   "outputs": [
    {
     "data": {
      "text/plain": [
       "[[0.1212, 0.1766],\n",
       " [0.0455, 0.5],\n",
       " [0.0122, 0.0455],\n",
       " [0.0, 0.0],\n",
       " [0.1433, 1.0],\n",
       " [0.0736, 0.9524]]"
      ]
     },
     "execution_count": 295,
     "metadata": {},
     "output_type": "execute_result"
    }
   ],
   "source": [
    "person_hardhat_overlap"
   ]
  },
  {
   "cell_type": "code",
   "execution_count": 296,
   "metadata": {},
   "outputs": [
    {
     "data": {
      "text/plain": [
       "[[0.6148, 1.0],\n",
       " [0.4329, 1.0],\n",
       " [0.3852, 1.0],\n",
       " [0.3675, 1.0],\n",
       " [0.0372, 1.0],\n",
       " [0.3356, 0.9529]]"
      ]
     },
     "execution_count": 296,
     "metadata": {},
     "output_type": "execute_result"
    }
   ],
   "source": [
    "person_safetyvest_overlap"
   ]
  },
  {
   "cell_type": "code",
   "execution_count": 297,
   "metadata": {},
   "outputs": [
    {
     "data": {
      "text/html": [
       "<div>\n",
       "<style scoped>\n",
       "    .dataframe tbody tr th:only-of-type {\n",
       "        vertical-align: middle;\n",
       "    }\n",
       "\n",
       "    .dataframe tbody tr th {\n",
       "        vertical-align: top;\n",
       "    }\n",
       "\n",
       "    .dataframe thead th {\n",
       "        text-align: right;\n",
       "    }\n",
       "</style>\n",
       "<table border=\"1\" class=\"dataframe\">\n",
       "  <thead>\n",
       "    <tr style=\"text-align: right;\">\n",
       "      <th></th>\n",
       "      <th>Category</th>\n",
       "      <th>ConfidenceScore</th>\n",
       "      <th>xmin</th>\n",
       "      <th>ymin</th>\n",
       "      <th>xmax</th>\n",
       "      <th>ymax</th>\n",
       "    </tr>\n",
       "  </thead>\n",
       "  <tbody>\n",
       "    <tr>\n",
       "      <th>0</th>\n",
       "      <td>person</td>\n",
       "      <td>0.73</td>\n",
       "      <td>466</td>\n",
       "      <td>142</td>\n",
       "      <td>513</td>\n",
       "      <td>202</td>\n",
       "    </tr>\n",
       "    <tr>\n",
       "      <th>1</th>\n",
       "      <td>person</td>\n",
       "      <td>0.81</td>\n",
       "      <td>524</td>\n",
       "      <td>179</td>\n",
       "      <td>559</td>\n",
       "      <td>255</td>\n",
       "    </tr>\n",
       "    <tr>\n",
       "      <th>2</th>\n",
       "      <td>person</td>\n",
       "      <td>0.92</td>\n",
       "      <td>381</td>\n",
       "      <td>139</td>\n",
       "      <td>463</td>\n",
       "      <td>293</td>\n",
       "    </tr>\n",
       "    <tr>\n",
       "      <th>3</th>\n",
       "      <td>person</td>\n",
       "      <td>0.95</td>\n",
       "      <td>276</td>\n",
       "      <td>136</td>\n",
       "      <td>360</td>\n",
       "      <td>305</td>\n",
       "    </tr>\n",
       "    <tr>\n",
       "      <th>4</th>\n",
       "      <td>person</td>\n",
       "      <td>0.98</td>\n",
       "      <td>418</td>\n",
       "      <td>184</td>\n",
       "      <td>556</td>\n",
       "      <td>415</td>\n",
       "    </tr>\n",
       "    <tr>\n",
       "      <th>5</th>\n",
       "      <td>person</td>\n",
       "      <td>0.99</td>\n",
       "      <td>5</td>\n",
       "      <td>216</td>\n",
       "      <td>182</td>\n",
       "      <td>367</td>\n",
       "    </tr>\n",
       "  </tbody>\n",
       "</table>\n",
       "</div>"
      ],
      "text/plain": [
       "  Category  ConfidenceScore  xmin  ymin  xmax  ymax\n",
       "0   person             0.73   466   142   513   202\n",
       "1   person             0.81   524   179   559   255\n",
       "2   person             0.92   381   139   463   293\n",
       "3   person             0.95   276   136   360   305\n",
       "4   person             0.98   418   184   556   415\n",
       "5   person             0.99     5   216   182   367"
      ]
     },
     "execution_count": 297,
     "metadata": {},
     "output_type": "execute_result"
    }
   ],
   "source": [
    "df_person"
   ]
  },
  {
   "cell_type": "markdown",
   "metadata": {},
   "source": [
    "### Combine overlap information for Safety Vest & Hard Hat\n",
    "\n",
    "For each person in the frame, compute the overlap information for safety vest and hard hat objects and concatenate the information into 'df_combined' dataframe as shown below. \n"
   ]
  },
  {
   "cell_type": "code",
   "execution_count": 298,
   "metadata": {},
   "outputs": [],
   "source": [
    "df_combined = pd.concat([df_person, pd.DataFrame({'hardhat_overlap': person_hardhat_overlap, 'safetyvest_overlap': person_safetyvest_overlap})] ,axis=1)"
   ]
  },
  {
   "cell_type": "code",
   "execution_count": 299,
   "metadata": {},
   "outputs": [
    {
     "data": {
      "text/html": [
       "<div>\n",
       "<style scoped>\n",
       "    .dataframe tbody tr th:only-of-type {\n",
       "        vertical-align: middle;\n",
       "    }\n",
       "\n",
       "    .dataframe tbody tr th {\n",
       "        vertical-align: top;\n",
       "    }\n",
       "\n",
       "    .dataframe thead th {\n",
       "        text-align: right;\n",
       "    }\n",
       "</style>\n",
       "<table border=\"1\" class=\"dataframe\">\n",
       "  <thead>\n",
       "    <tr style=\"text-align: right;\">\n",
       "      <th></th>\n",
       "      <th>Category</th>\n",
       "      <th>ConfidenceScore</th>\n",
       "      <th>xmin</th>\n",
       "      <th>ymin</th>\n",
       "      <th>xmax</th>\n",
       "      <th>ymax</th>\n",
       "      <th>hardhat_overlap</th>\n",
       "      <th>safetyvest_overlap</th>\n",
       "    </tr>\n",
       "  </thead>\n",
       "  <tbody>\n",
       "    <tr>\n",
       "      <th>0</th>\n",
       "      <td>person</td>\n",
       "      <td>0.73</td>\n",
       "      <td>466</td>\n",
       "      <td>142</td>\n",
       "      <td>513</td>\n",
       "      <td>202</td>\n",
       "      <td>[0.1212, 0.1766]</td>\n",
       "      <td>[0.6148, 1.0]</td>\n",
       "    </tr>\n",
       "    <tr>\n",
       "      <th>1</th>\n",
       "      <td>person</td>\n",
       "      <td>0.81</td>\n",
       "      <td>524</td>\n",
       "      <td>179</td>\n",
       "      <td>559</td>\n",
       "      <td>255</td>\n",
       "      <td>[0.0455, 0.5]</td>\n",
       "      <td>[0.4329, 1.0]</td>\n",
       "    </tr>\n",
       "    <tr>\n",
       "      <th>2</th>\n",
       "      <td>person</td>\n",
       "      <td>0.92</td>\n",
       "      <td>381</td>\n",
       "      <td>139</td>\n",
       "      <td>463</td>\n",
       "      <td>293</td>\n",
       "      <td>[0.0122, 0.0455]</td>\n",
       "      <td>[0.3852, 1.0]</td>\n",
       "    </tr>\n",
       "    <tr>\n",
       "      <th>3</th>\n",
       "      <td>person</td>\n",
       "      <td>0.95</td>\n",
       "      <td>276</td>\n",
       "      <td>136</td>\n",
       "      <td>360</td>\n",
       "      <td>305</td>\n",
       "      <td>[0.0, 0.0]</td>\n",
       "      <td>[0.3675, 1.0]</td>\n",
       "    </tr>\n",
       "    <tr>\n",
       "      <th>4</th>\n",
       "      <td>person</td>\n",
       "      <td>0.98</td>\n",
       "      <td>418</td>\n",
       "      <td>184</td>\n",
       "      <td>556</td>\n",
       "      <td>415</td>\n",
       "      <td>[0.1433, 1.0]</td>\n",
       "      <td>[0.0372, 1.0]</td>\n",
       "    </tr>\n",
       "    <tr>\n",
       "      <th>5</th>\n",
       "      <td>person</td>\n",
       "      <td>0.99</td>\n",
       "      <td>5</td>\n",
       "      <td>216</td>\n",
       "      <td>182</td>\n",
       "      <td>367</td>\n",
       "      <td>[0.0736, 0.9524]</td>\n",
       "      <td>[0.3356, 0.9529]</td>\n",
       "    </tr>\n",
       "  </tbody>\n",
       "</table>\n",
       "</div>"
      ],
      "text/plain": [
       "  Category  ConfidenceScore  xmin  ymin  xmax  ymax   hardhat_overlap  \\\n",
       "0   person             0.73   466   142   513   202  [0.1212, 0.1766]   \n",
       "1   person             0.81   524   179   559   255     [0.0455, 0.5]   \n",
       "2   person             0.92   381   139   463   293  [0.0122, 0.0455]   \n",
       "3   person             0.95   276   136   360   305        [0.0, 0.0]   \n",
       "4   person             0.98   418   184   556   415     [0.1433, 1.0]   \n",
       "5   person             0.99     5   216   182   367  [0.0736, 0.9524]   \n",
       "\n",
       "  safetyvest_overlap  \n",
       "0      [0.6148, 1.0]  \n",
       "1      [0.4329, 1.0]  \n",
       "2      [0.3852, 1.0]  \n",
       "3      [0.3675, 1.0]  \n",
       "4      [0.0372, 1.0]  \n",
       "5   [0.3356, 0.9529]  "
      ]
     },
     "execution_count": 299,
     "metadata": {},
     "output_type": "execute_result"
    }
   ],
   "source": [
    "df_combined"
   ]
  },
  {
   "cell_type": "code",
   "execution_count": 300,
   "metadata": {},
   "outputs": [],
   "source": [
    "def has_overlap(row, overlap_threshold=0.35):\n",
    "    if (row['hardhat_overlap'][0] > 0) and (row['hardhat_overlap'][1] > overlap_threshold):\n",
    "        return \"Good match\"\n",
    "    elif (row['ymin'] < 144):\n",
    "        return \"Object not in frame\"\n",
    "    else:\n",
    "        return \"No match found\"\n"
   ]
  },
  {
   "cell_type": "code",
   "execution_count": 301,
   "metadata": {},
   "outputs": [],
   "source": [
    "threshold_value = 0.35\n",
    "df_combined['hh_overlap'] = df_combined.apply(has_overlap, axis=1)\n",
    "df_combined['sv_overlap'] = df_combined.apply(has_overlap, axis=1)"
   ]
  },
  {
   "cell_type": "code",
   "execution_count": null,
   "metadata": {},
   "outputs": [],
   "source": []
  },
  {
   "cell_type": "code",
   "execution_count": 302,
   "metadata": {},
   "outputs": [
    {
     "data": {
      "text/html": [
       "<div>\n",
       "<style scoped>\n",
       "    .dataframe tbody tr th:only-of-type {\n",
       "        vertical-align: middle;\n",
       "    }\n",
       "\n",
       "    .dataframe tbody tr th {\n",
       "        vertical-align: top;\n",
       "    }\n",
       "\n",
       "    .dataframe thead th {\n",
       "        text-align: right;\n",
       "    }\n",
       "</style>\n",
       "<table border=\"1\" class=\"dataframe\">\n",
       "  <thead>\n",
       "    <tr style=\"text-align: right;\">\n",
       "      <th></th>\n",
       "      <th>Category</th>\n",
       "      <th>ConfidenceScore</th>\n",
       "      <th>xmin</th>\n",
       "      <th>ymin</th>\n",
       "      <th>xmax</th>\n",
       "      <th>ymax</th>\n",
       "      <th>hardhat_overlap</th>\n",
       "      <th>safetyvest_overlap</th>\n",
       "      <th>hh_overlap</th>\n",
       "      <th>sv_overlap</th>\n",
       "    </tr>\n",
       "  </thead>\n",
       "  <tbody>\n",
       "    <tr>\n",
       "      <th>0</th>\n",
       "      <td>person</td>\n",
       "      <td>0.73</td>\n",
       "      <td>466</td>\n",
       "      <td>142</td>\n",
       "      <td>513</td>\n",
       "      <td>202</td>\n",
       "      <td>[0.1212, 0.1766]</td>\n",
       "      <td>[0.6148, 1.0]</td>\n",
       "      <td>Object not in frame</td>\n",
       "      <td>Object not in frame</td>\n",
       "    </tr>\n",
       "    <tr>\n",
       "      <th>1</th>\n",
       "      <td>person</td>\n",
       "      <td>0.81</td>\n",
       "      <td>524</td>\n",
       "      <td>179</td>\n",
       "      <td>559</td>\n",
       "      <td>255</td>\n",
       "      <td>[0.0455, 0.5]</td>\n",
       "      <td>[0.4329, 1.0]</td>\n",
       "      <td>Good match</td>\n",
       "      <td>Good match</td>\n",
       "    </tr>\n",
       "    <tr>\n",
       "      <th>2</th>\n",
       "      <td>person</td>\n",
       "      <td>0.92</td>\n",
       "      <td>381</td>\n",
       "      <td>139</td>\n",
       "      <td>463</td>\n",
       "      <td>293</td>\n",
       "      <td>[0.0122, 0.0455]</td>\n",
       "      <td>[0.3852, 1.0]</td>\n",
       "      <td>Object not in frame</td>\n",
       "      <td>Object not in frame</td>\n",
       "    </tr>\n",
       "    <tr>\n",
       "      <th>3</th>\n",
       "      <td>person</td>\n",
       "      <td>0.95</td>\n",
       "      <td>276</td>\n",
       "      <td>136</td>\n",
       "      <td>360</td>\n",
       "      <td>305</td>\n",
       "      <td>[0.0, 0.0]</td>\n",
       "      <td>[0.3675, 1.0]</td>\n",
       "      <td>Object not in frame</td>\n",
       "      <td>Object not in frame</td>\n",
       "    </tr>\n",
       "    <tr>\n",
       "      <th>4</th>\n",
       "      <td>person</td>\n",
       "      <td>0.98</td>\n",
       "      <td>418</td>\n",
       "      <td>184</td>\n",
       "      <td>556</td>\n",
       "      <td>415</td>\n",
       "      <td>[0.1433, 1.0]</td>\n",
       "      <td>[0.0372, 1.0]</td>\n",
       "      <td>Good match</td>\n",
       "      <td>Good match</td>\n",
       "    </tr>\n",
       "    <tr>\n",
       "      <th>5</th>\n",
       "      <td>person</td>\n",
       "      <td>0.99</td>\n",
       "      <td>5</td>\n",
       "      <td>216</td>\n",
       "      <td>182</td>\n",
       "      <td>367</td>\n",
       "      <td>[0.0736, 0.9524]</td>\n",
       "      <td>[0.3356, 0.9529]</td>\n",
       "      <td>Good match</td>\n",
       "      <td>Good match</td>\n",
       "    </tr>\n",
       "  </tbody>\n",
       "</table>\n",
       "</div>"
      ],
      "text/plain": [
       "  Category  ConfidenceScore  xmin  ymin  xmax  ymax   hardhat_overlap  \\\n",
       "0   person             0.73   466   142   513   202  [0.1212, 0.1766]   \n",
       "1   person             0.81   524   179   559   255     [0.0455, 0.5]   \n",
       "2   person             0.92   381   139   463   293  [0.0122, 0.0455]   \n",
       "3   person             0.95   276   136   360   305        [0.0, 0.0]   \n",
       "4   person             0.98   418   184   556   415     [0.1433, 1.0]   \n",
       "5   person             0.99     5   216   182   367  [0.0736, 0.9524]   \n",
       "\n",
       "  safetyvest_overlap           hh_overlap           sv_overlap  \n",
       "0      [0.6148, 1.0]  Object not in frame  Object not in frame  \n",
       "1      [0.4329, 1.0]           Good match           Good match  \n",
       "2      [0.3852, 1.0]  Object not in frame  Object not in frame  \n",
       "3      [0.3675, 1.0]  Object not in frame  Object not in frame  \n",
       "4      [0.0372, 1.0]           Good match           Good match  \n",
       "5   [0.3356, 0.9529]           Good match           Good match  "
      ]
     },
     "execution_count": 302,
     "metadata": {},
     "output_type": "execute_result"
    }
   ],
   "source": [
    "df_combined"
   ]
  },
  {
   "cell_type": "code",
   "execution_count": null,
   "metadata": {},
   "outputs": [],
   "source": []
  }
 ],
 "metadata": {
  "kernelspec": {
   "display_name": "Python 3",
   "language": "python",
   "name": "python3"
  },
  "language_info": {
   "codemirror_mode": {
    "name": "ipython",
    "version": 3
   },
   "file_extension": ".py",
   "mimetype": "text/x-python",
   "name": "python",
   "nbconvert_exporter": "python",
   "pygments_lexer": "ipython3",
   "version": "3.6.8"
  }
 },
 "nbformat": 4,
 "nbformat_minor": 2
}
