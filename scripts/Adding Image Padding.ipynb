{
 "cells": [
  {
   "cell_type": "code",
   "execution_count": 3,
   "metadata": {},
   "outputs": [],
   "source": [
    "import os\n",
    "import cv2 as cv"
   ]
  },
  {
   "cell_type": "code",
   "execution_count": 28,
   "metadata": {},
   "outputs": [],
   "source": [
    "PATH_TO_IMAGES = '../../keras-yolo3/construction_images/'\n",
    "PATH_TO_NEW_FOLDER = '../construction_images_padded/'\n",
    "\n",
    "image_filenames = os.listdir('../../keras-yolo3/construction_images')"
   ]
  },
  {
   "cell_type": "code",
   "execution_count": 29,
   "metadata": {},
   "outputs": [],
   "source": [
    "top = 140\n",
    "bottom = top"
   ]
  },
  {
   "cell_type": "code",
   "execution_count": 30,
   "metadata": {},
   "outputs": [],
   "source": [
    "for filename in image_filenames:\n",
    "\n",
    "    img_src = PATH_TO_IMAGES + filename\n",
    "    img_dst = PATH_TO_NEW_FOLDER + filename\n",
    "    \n",
    "    src = cv.imread(cv.samples.findFile(img_src), cv.IMREAD_COLOR)\n",
    "    \n",
    "    dst = cv.copyMakeBorder(src, top, bottom, 0, 0, cv.BORDER_CONSTANT)\n",
    "    \n",
    "    cv.imwrite(img_dst, dst)"
   ]
  },
  {
   "cell_type": "code",
   "execution_count": null,
   "metadata": {},
   "outputs": [],
   "source": []
  }
 ],
 "metadata": {
  "kernelspec": {
   "display_name": "Python 3",
   "language": "python",
   "name": "python3"
  },
  "language_info": {
   "codemirror_mode": {
    "name": "ipython",
    "version": 3
   },
   "file_extension": ".py",
   "mimetype": "text/x-python",
   "name": "python",
   "nbconvert_exporter": "python",
   "pygments_lexer": "ipython3",
   "version": "3.7.1"
  }
 },
 "nbformat": 4,
 "nbformat_minor": 2
}
