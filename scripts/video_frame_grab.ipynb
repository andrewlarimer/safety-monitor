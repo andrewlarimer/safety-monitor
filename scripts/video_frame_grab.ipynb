{
 "cells": [
  {
   "cell_type": "markdown",
   "metadata": {},
   "source": [
    "### Objectives\n",
    "1. Get 50 frames from each video\n",
    "2. At a rate of 1 frame per second of video"
   ]
  },
  {
   "cell_type": "code",
   "execution_count": 5,
   "metadata": {},
   "outputs": [],
   "source": [
    "import os\n",
    "import moviepy.editor as mpe\n",
    "from tqdm import tqdm\n",
    "from pytube import YouTube\n",
    "from pandas import read_csv\n",
    "from zipfile import ZipFile\n",
    "os.chdir('video')"
   ]
  },
  {
   "cell_type": "code",
   "execution_count": 6,
   "metadata": {},
   "outputs": [],
   "source": [
    "FILE='hardhatvids'\n",
    "VID_PATH_GET='hardhatvids/'\n",
    "VID_PATH_SAVE='video_grabs/' # folder to save images in"
   ]
  },
  {
   "cell_type": "markdown",
   "metadata": {},
   "source": [
    "#### Option: Add videos to folder"
   ]
  },
  {
   "cell_type": "code",
   "execution_count": null,
   "metadata": {},
   "outputs": [],
   "source": [
    "a_vids=read_csv('video_lists/vid_a.csv', header=None, names=['links'])\n",
    "for v in tqdm(a_vids.links):\n",
    "    try:\n",
    "        YouTube(v).streams.filter(subtype='mp4').first().download()\n",
    "    except:\n",
    "        print(v, ' is not available.')"
   ]
  },
  {
   "cell_type": "markdown",
   "metadata": {},
   "source": [
    "#### Option - Unzip downloaded mp4 files by nb"
   ]
  },
  {
   "cell_type": "code",
   "execution_count": null,
   "metadata": {},
   "outputs": [],
   "source": [
    "with ZipFile(FILE, 'r') as zf:\n",
    "    zf.extractall(VID_PATH_SAVE)"
   ]
  },
  {
   "cell_type": "markdown",
   "metadata": {},
   "source": [
    "#### Clip videos and grab frames"
   ]
  },
  {
   "cell_type": "code",
   "execution_count": 25,
   "metadata": {},
   "outputs": [],
   "source": [
    "# get all .mp4 files for processing\n",
    "lst=os.listdir(VID_PATH_GET) # folder with .mp4 files \n",
    "vidlst=sorted([i for i in lst if '.mp4' in i])"
   ]
  },
  {
   "cell_type": "code",
   "execution_count": 27,
   "metadata": {},
   "outputs": [
    {
     "name": "stdout",
     "output_type": "stream",
     "text": [
      "[Errno 17] File exists: 'video_grabs/'\n",
      "Do you want to delete all .jpeg from directory? y/n y\n"
     ]
    }
   ],
   "source": [
    "# make/clear frame save dir\n",
    "try:\n",
    "    os.mkdir(VID_PATH_SAVE)\n",
    "except FileExistsError as f:\n",
    "    print(f)\n",
    "    pass\n",
    "    \n",
    "# clear out save directory for frames\n",
    "inpt=input('Do you want to delete all .jpeg from directory? y/n ')\n",
    "if inpt=='y': [os.remove(i) for i in os.listdir('video_grabs') if '.jpeg' in i]"
   ]
  },
  {
   "cell_type": "code",
   "execution_count": 28,
   "metadata": {},
   "outputs": [
    {
     "name": "stderr",
     "output_type": "stream",
     "text": [
      "100%|██████████| 20/20 [02:09<00:00,  7.82s/it]\n"
     ]
    }
   ],
   "source": [
    "# get a 50 sec clip with one frame per second with some buffer to start (e.g 20 secs), if the vid is long enough\n",
    "max_segment_length=50; start=10\n",
    "\n",
    "\n",
    "\n",
    "err_lst,vid_proc=[],[] # list of vids not processed, list of processed vids\n",
    "\n",
    "counter=0\n",
    "for vid in tqdm(vidlst):\n",
    "    video = mpe.VideoFileClip(VID_PATH_GET+vid)\n",
    "    start=1 if video.duration < max_segment_length else video.duration-max_segment_length\n",
    "    finish=max_segment_length+start if video.duration > max_segment_length+start else video.duration\n",
    "    \n",
    "    for t in range(0,int(video.duration),max(1,int(video.duration/50))):\n",
    "        try:\n",
    "            video.save_frame(VID_PATH_SAVE+'{}_{}.jpeg'.\n",
    "                             format(vid.split('.mp4')[0].strip(), counter), t=t) # save frame at t=2 as JPEG\n",
    "            vid_proc.append((vid,': ',video.duration))\n",
    "        except:\n",
    "            err_lst.append('{} had OS error and was not processed'.format(vid))\n",
    "            pass\n",
    "        \n",
    "        counter+=1"
   ]
  },
  {
   "cell_type": "code",
   "execution_count": 19,
   "metadata": {},
   "outputs": [
    {
     "ename": "NameError",
     "evalue": "name 'err_lst' is not defined",
     "output_type": "error",
     "traceback": [
      "\u001b[0;31m---------------------------------------------------------------------------\u001b[0m",
      "\u001b[0;31mNameError\u001b[0m                                 Traceback (most recent call last)",
      "\u001b[0;32m<ipython-input-19-f8e10a903fe6>\u001b[0m in \u001b[0;36m<module>\u001b[0;34m\u001b[0m\n\u001b[0;32m----> 1\u001b[0;31m \u001b[0mprint\u001b[0m\u001b[0;34m(\u001b[0m\u001b[0;34m'Total videos processed: '\u001b[0m\u001b[0;34m,\u001b[0m \u001b[0mlen\u001b[0m\u001b[0;34m(\u001b[0m\u001b[0mvidlst\u001b[0m\u001b[0;34m)\u001b[0m\u001b[0;34m-\u001b[0m\u001b[0mlen\u001b[0m\u001b[0;34m(\u001b[0m\u001b[0mset\u001b[0m\u001b[0;34m(\u001b[0m\u001b[0merr_lst\u001b[0m\u001b[0;34m)\u001b[0m\u001b[0;34m)\u001b[0m\u001b[0;34m)\u001b[0m\u001b[0;34m\u001b[0m\u001b[0;34m\u001b[0m\u001b[0m\n\u001b[0m\u001b[1;32m      2\u001b[0m \u001b[0mprint\u001b[0m\u001b[0;34m(\u001b[0m\u001b[0;34m'Total frames created: '\u001b[0m\u001b[0;34m,\u001b[0m \u001b[0mlen\u001b[0m\u001b[0;34m(\u001b[0m\u001b[0mos\u001b[0m\u001b[0;34m.\u001b[0m\u001b[0mlistdir\u001b[0m\u001b[0;34m(\u001b[0m\u001b[0;34m'video_grabs'\u001b[0m\u001b[0;34m)\u001b[0m\u001b[0;34m)\u001b[0m\u001b[0;34m)\u001b[0m\u001b[0;34m\u001b[0m\u001b[0;34m\u001b[0m\u001b[0m\n\u001b[1;32m      3\u001b[0m \u001b[0mprint\u001b[0m\u001b[0;34m(\u001b[0m\u001b[0;34m'Videos not processed:\\n'\u001b[0m\u001b[0;34m,\u001b[0m \u001b[0mset\u001b[0m\u001b[0;34m(\u001b[0m\u001b[0merr_lst\u001b[0m\u001b[0;34m)\u001b[0m\u001b[0;34m)\u001b[0m\u001b[0;34m\u001b[0m\u001b[0;34m\u001b[0m\u001b[0m\n",
      "\u001b[0;31mNameError\u001b[0m: name 'err_lst' is not defined"
     ]
    }
   ],
   "source": [
    "print('Total videos processed: ', len(vidlst)-len(set(err_lst)))\n",
    "print('Total frames created: ', len(os.listdir('video_grabs')))\n",
    "print('Videos not processed:\\n', set(err_lst))"
   ]
  },
  {
   "cell_type": "code",
   "execution_count": 4,
   "metadata": {},
   "outputs": [
    {
     "ename": "FileNotFoundError",
     "evalue": "[Errno 2] No such file or directory: 'video_grabs'",
     "output_type": "error",
     "traceback": [
      "\u001b[0;31m---------------------------------------------------------------------------\u001b[0m",
      "\u001b[0;31mFileNotFoundError\u001b[0m                         Traceback (most recent call last)",
      "\u001b[0;32m<ipython-input-4-503e7f60e692>\u001b[0m in \u001b[0;36m<module>\u001b[0;34m\u001b[0m\n\u001b[0;32m----> 1\u001b[0;31m \u001b[0mframes\u001b[0m \u001b[0;34m=\u001b[0m \u001b[0msorted\u001b[0m\u001b[0;34m(\u001b[0m\u001b[0mos\u001b[0m\u001b[0;34m.\u001b[0m\u001b[0mlistdir\u001b[0m\u001b[0;34m(\u001b[0m\u001b[0;34m'video_grabs'\u001b[0m\u001b[0;34m)\u001b[0m\u001b[0;34m)\u001b[0m\u001b[0;34m\u001b[0m\u001b[0;34m\u001b[0m\u001b[0m\n\u001b[0m\u001b[1;32m      2\u001b[0m \u001b[0mandrew\u001b[0m\u001b[0;34m=\u001b[0m\u001b[0mframes\u001b[0m\u001b[0;34m[\u001b[0m\u001b[0;34m:\u001b[0m\u001b[0;36m400\u001b[0m\u001b[0;34m]\u001b[0m\u001b[0;34m\u001b[0m\u001b[0;34m\u001b[0m\u001b[0m\n\u001b[1;32m      3\u001b[0m \u001b[0msudha\u001b[0m\u001b[0;34m=\u001b[0m\u001b[0mframes\u001b[0m\u001b[0;34m[\u001b[0m\u001b[0;36m400\u001b[0m\u001b[0;34m:\u001b[0m\u001b[0;36m800\u001b[0m\u001b[0;34m]\u001b[0m\u001b[0;34m\u001b[0m\u001b[0;34m\u001b[0m\u001b[0m\n\u001b[1;32m      4\u001b[0m \u001b[0msilas\u001b[0m\u001b[0;34m=\u001b[0m\u001b[0mframes\u001b[0m\u001b[0;34m[\u001b[0m\u001b[0;36m800\u001b[0m\u001b[0;34m:\u001b[0m\u001b[0;34m]\u001b[0m\u001b[0;34m\u001b[0m\u001b[0;34m\u001b[0m\u001b[0m\n\u001b[1;32m      5\u001b[0m \u001b[0mbatches\u001b[0m\u001b[0;34m=\u001b[0m\u001b[0;34m{\u001b[0m\u001b[0;34m'andrew'\u001b[0m\u001b[0;34m:\u001b[0m\u001b[0mandrew\u001b[0m\u001b[0;34m,\u001b[0m\u001b[0;34m'sudha'\u001b[0m\u001b[0;34m:\u001b[0m\u001b[0msudha\u001b[0m\u001b[0;34m,\u001b[0m\u001b[0;34m'silas'\u001b[0m\u001b[0;34m:\u001b[0m\u001b[0msilas\u001b[0m\u001b[0;34m}\u001b[0m\u001b[0;34m\u001b[0m\u001b[0;34m\u001b[0m\u001b[0m\n",
      "\u001b[0;31mFileNotFoundError\u001b[0m: [Errno 2] No such file or directory: 'video_grabs'"
     ]
    }
   ],
   "source": [
    "frames = sorted(os.listdir('video_grabs'))\n",
    "andrew=frames[:400]\n",
    "sudha=frames[400:800]\n",
    "silas=frames[800:]\n",
    "batches={'andrew':andrew,'sudha':sudha,'silas':silas}"
   ]
  },
  {
   "cell_type": "code",
   "execution_count": null,
   "metadata": {},
   "outputs": [],
   "source": []
  },
  {
   "cell_type": "code",
   "execution_count": null,
   "metadata": {},
   "outputs": [],
   "source": [
    "for name,batch in batches.items():    \n",
    "    with ZipFile('{}.zip'.format(name),'w') as zip: \n",
    "        # writing each file one by one \n",
    "        for file in batch: \n",
    "            zip.write(VID_PATH_SAVE+file)"
   ]
  },
  {
   "cell_type": "markdown",
   "metadata": {},
   "source": [
    "#### helpers"
   ]
  },
  {
   "cell_type": "code",
   "execution_count": null,
   "metadata": {},
   "outputs": [],
   "source": [
    "# use to erase all jpg from file with lst = os.listdir():\n",
    "#[os.remove(i) for i in os.listdir('video_grabs') if '.jpeg' in i]"
   ]
  },
  {
   "cell_type": "code",
   "execution_count": null,
   "metadata": {},
   "outputs": [],
   "source": [
    "# use to erase all jpg from file:\n",
    "# set([os.remove(i) for i in lst if '.png' in i])"
   ]
  },
  {
   "cell_type": "code",
   "execution_count": null,
   "metadata": {},
   "outputs": [],
   "source": [
    "# yt.streams.filter(progressive=True, file_extension='mp4').desc().all()"
   ]
  },
  {
   "cell_type": "code",
   "execution_count": null,
   "metadata": {},
   "outputs": [],
   "source": [
    "# option to automate download of vids\n",
    "\"\"\"\n",
    "import dropbox\n",
    "dbx = dropbox.Dropbox(\"accesstokenhere\")\n",
    "dbx.files_download_to_file(j, '/'+ j)\n",
    "\"\"\""
   ]
  }
 ],
 "metadata": {
  "kernelspec": {
   "display_name": "Python 3",
   "language": "python",
   "name": "python3"
  },
  "language_info": {
   "codemirror_mode": {
    "name": "ipython",
    "version": 3
   },
   "file_extension": ".py",
   "mimetype": "text/x-python",
   "name": "python",
   "nbconvert_exporter": "python",
   "pygments_lexer": "ipython3",
   "version": "3.6.7"
  }
 },
 "nbformat": 4,
 "nbformat_minor": 2
}
