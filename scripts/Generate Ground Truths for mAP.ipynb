{
 "cells": [
  {
   "cell_type": "code",
   "execution_count": 1,
   "metadata": {},
   "outputs": [],
   "source": [
    "OUTPUT_DIR = '../mAP/input/ground-truth/'\n",
    "\n",
    "with open('../construction_labels/construction_dev.txt','r') as f:\n",
    "    text = f.readlines()"
   ]
  },
  {
   "cell_type": "code",
   "execution_count": 8,
   "metadata": {},
   "outputs": [],
   "source": [
    "with open('../construction_labels/construction.names','r') as f:\n",
    "    classes_text = f.readlines()\n",
    "    \n",
    "classes_dict = {}\n",
    "\n",
    "for idx, class_name in enumerate(classes_text):\n",
    "    classes_dict[idx] = class_name.strip()"
   ]
  },
  {
   "cell_type": "code",
   "execution_count": 16,
   "metadata": {},
   "outputs": [],
   "source": [
    "for line in text:\n",
    "    split_line = line.split()\n",
    "    img_filename = split_line[0].split('/')[-1]\n",
    "    text_filename = img_filename.split('.')[0] + \".txt\"\n",
    "    \n",
    "    boxes = []\n",
    "    \n",
    "    for box in split_line[1:]:\n",
    "        left, top, right, bottom, labelclass = box.strip().split(',')\n",
    "        box_string = f\"{classes_dict[int(labelclass)]} {left} {top} {right} {bottom}\"\n",
    "#         if (float(right) - float(left)) < 8:\n",
    "#             box_string = box_string + \" difficult\"\n",
    "        boxes.append(box_string)\n",
    "    \n",
    "    with open(OUTPUT_DIR + text_filename, 'w') as f:\n",
    "        f.writelines('\\n'.join(boxes))"
   ]
  },
  {
   "cell_type": "code",
   "execution_count": null,
   "metadata": {},
   "outputs": [],
   "source": []
  }
 ],
 "metadata": {
  "kernelspec": {
   "display_name": "Python 3",
   "language": "python",
   "name": "python3"
  },
  "language_info": {
   "codemirror_mode": {
    "name": "ipython",
    "version": 3
   },
   "file_extension": ".py",
   "mimetype": "text/x-python",
   "name": "python",
   "nbconvert_exporter": "python",
   "pygments_lexer": "ipython3",
   "version": "3.7.1"
  }
 },
 "nbformat": 4,
 "nbformat_minor": 2
}
