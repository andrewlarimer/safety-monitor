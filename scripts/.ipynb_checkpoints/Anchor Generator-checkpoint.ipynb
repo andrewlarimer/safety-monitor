{
 "cells": [
  {
   "cell_type": "code",
   "execution_count": 3,
   "metadata": {},
   "outputs": [
    {
     "name": "stdout",
     "output_type": "stream",
     "text": [
      "0.008, 0.009, 0.01, 0.024, 0.069, 0.078, 0.083, 0.207, 0.13, 0.146, 0.156, 0.391, 0.191, 0.215, 0.23, 0.574, 0.252, 0.284, 0.303, 0.757, 0.313, 0.353, 0.376, 0.94, 0.375, 0.421, 0.436, 0.49, 0.497, 0.559, 0.558, 0.628, 0.619, 0.696, 0.68, 0.765\n"
     ]
    }
   ],
   "source": [
    "import numpy as np\n",
    "\n",
    "xs = np.linspace(0.008, 0.68, 12)\n",
    "\n",
    "full_list = []\n",
    "for x in xs:\n",
    "    if x*1.125 <= 1:\n",
    "        full_list.append(str(round(x, 3)))\n",
    "        full_list.append(str(round(x*1.125, 3)))\n",
    "    if x*3 <= 1:\n",
    "        full_list.append(str(round(x*1.2, 3)))\n",
    "        full_list.append(str(round(x*3, 3)))\n",
    "\n",
    "full_string = \", \".join(full_list)\n",
    "\n",
    "print(full_string)"
   ]
  },
  {
   "cell_type": "markdown",
   "metadata": {},
   "source": [
    "0.008,0.009, 0.01,0.024, 0.069,0.078, 0.083,0.207, 0.13,0.146, 0.156,0.391, 0.191,0.215, 0.23,0.574, 0.252,0.284, 0.303,0.757, 0.313,0.353, 0.376,0.94, 0.375,0.421, 0.436,0.49, 0.497,0.559, 0.558,0.628, 0.619,0.696, 0.68,0.765"
   ]
  }
 ],
 "metadata": {
  "kernelspec": {
   "display_name": "Python 3",
   "language": "python",
   "name": "python3"
  },
  "language_info": {
   "codemirror_mode": {
    "name": "ipython",
    "version": 3
   },
   "file_extension": ".py",
   "mimetype": "text/x-python",
   "name": "python",
   "nbconvert_exporter": "python",
   "pygments_lexer": "ipython3",
   "version": "3.7.1"
  }
 },
 "nbformat": 4,
 "nbformat_minor": 2
}
