{
 "cells": [
  {
   "cell_type": "code",
   "execution_count": 4,
   "metadata": {},
   "outputs": [],
   "source": [
    "import re\n",
    "import numpy as np\n",
    "\n",
    "PERCENT_FOR_DEV = .15\n",
    "PERCENT_FOR_TEST = .1\n",
    "DIRECTORY='./construction_images/'"
   ]
  },
  {
   "cell_type": "code",
   "execution_count": 5,
   "metadata": {},
   "outputs": [],
   "source": [
    "with open('../tensorflow-yolov3/construction_dataset/dataset.txt','r') as f:\n",
    "    d = f.readlines()"
   ]
  },
  {
   "cell_type": "code",
   "execution_count": 6,
   "metadata": {},
   "outputs": [],
   "source": [
    "doubled_d = []\n",
    "\n",
    "for entry in d:\n",
    "    \n",
    "    L1 = re.sub('hardhat','0',entry)\n",
    "    L2 = re.sub('person','1',L1)\n",
    "    L3 = re.sub('safetyvest','2',L2)\n",
    "    final_string = DIRECTORY + L3\n",
    "    \n",
    "    item_list = final_string.split(' ')\n",
    "    \n",
    "    respaced_string = item_list[0] + \" \"\n",
    "\n",
    "    metronome = 0\n",
    "    flipped_string = re.sub('.jpeg','__fliph.jpeg',item_list[0]) + \" \"\n",
    "    for idx,item in enumerate(item_list[1:]):\n",
    "        if metronome == 0:\n",
    "            old_xmin = item\n",
    "            new_xmax = round(640-float(item), 2)\n",
    "        elif metronome == 1:\n",
    "            new_ymin = item + 140\n",
    "        elif metronome == 2:\n",
    "            old_xmax = item\n",
    "            new_xmin = round(640-float(item), 2)\n",
    "        elif metronome == 3:\n",
    "            new_ymax = item + 140\n",
    "        elif metronome == 4:\n",
    "            class_id = item\n",
    "        metronome += 1\n",
    "        if metronome == 5:\n",
    "            respaced_string + \",\".join([str(old_xmin), str(ymin), str(old_xmax), str(ymax), str(class_id)]) + \" \"\n",
    "            flipped_string = flipped_string + \",\".join([str(new_xmin), str(ymin), str(new_xmax), str(ymax), str(class_id)]) + \" \"\n",
    "            metronome = 0\n",
    "    \n",
    "    doubled_d.append(respaced_string)\n",
    "    doubled_d.append(flipped_string)"
   ]
  },
  {
   "cell_type": "code",
   "execution_count": 7,
   "metadata": {},
   "outputs": [],
   "source": [
    "non_train_idxs = np.random.choice(range(0,len(doubled_d)),int(len(doubled_d)*(PERCENT_FOR_TEST + PERCENT_FOR_DEV)), replace=False)\n",
    "dev_percent_of_non_train = PERCENT_FOR_DEV / (PERCENT_FOR_DEV + PERCENT_FOR_TEST)\n",
    "dev_idxs = np.random.choice(non_train_idxs,int(len(non_train_idxs)*dev_percent_of_non_train), replace=False)\n",
    "dev_idxs_set = set(dev_idxs)\n",
    "non_train_set = set(non_train_idxs)"
   ]
  },
  {
   "cell_type": "code",
   "execution_count": 8,
   "metadata": {},
   "outputs": [],
   "source": [
    "train_list = []\n",
    "dev_list = []\n",
    "test_list = []\n",
    "\n",
    "for idx, line in enumerate(doubled_d):\n",
    "    if idx in non_train_set:\n",
    "        if idx in dev_idxs_set:\n",
    "            dev_list.append(line)\n",
    "        else:\n",
    "            test_list.append(line)\n",
    "    else:\n",
    "        train_list.append(line)"
   ]
  },
  {
   "cell_type": "code",
   "execution_count": 9,
   "metadata": {},
   "outputs": [],
   "source": [
    "with open('../tensorflow-yolov3/construction_dataset/construction_train.txt','w') as f:\n",
    "    f.writelines(train_list)\n",
    "\n",
    "with open('../tensorflow-yolov3/construction_dataset/construction_dev.txt','w') as f:\n",
    "    f.writelines(test_list)\n",
    "    \n",
    "with open('../tensorflow-yolov3/construction_dataset/construction_test.txt','w') as f:\n",
    "    f.writelines(dev_list)"
   ]
  },
  {
   "cell_type": "code",
   "execution_count": null,
   "metadata": {},
   "outputs": [],
   "source": []
  }
 ],
 "metadata": {
  "kernelspec": {
   "display_name": "Python 3",
   "language": "python",
   "name": "python3"
  },
  "language_info": {
   "codemirror_mode": {
    "name": "ipython",
    "version": 3
   },
   "file_extension": ".py",
   "mimetype": "text/x-python",
   "name": "python",
   "nbconvert_exporter": "python",
   "pygments_lexer": "ipython3",
   "version": "3.7.1"
  }
 },
 "nbformat": 4,
 "nbformat_minor": 2
}
