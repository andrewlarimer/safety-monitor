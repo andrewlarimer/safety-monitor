{
 "cells": [
  {
   "cell_type": "code",
   "execution_count": 1,
   "metadata": {},
   "outputs": [],
   "source": [
    "import pandas as pd\n",
    "import numpy as np\n",
    "import os\n",
    "import xml.etree.ElementTree as ET\n",
    "import io\n",
    "from random import shuffle\n",
    "import shutil\n",
    "import cv2\n",
    "%matplotlib inline"
   ]
  },
  {
   "cell_type": "markdown",
   "metadata": {},
   "source": [
    "### parse xml to df"
   ]
  },
  {
   "cell_type": "code",
   "execution_count": 2,
   "metadata": {},
   "outputs": [],
   "source": [
    "annot_path='/home/silas/MIDS/W251/final_project/annotations'\n",
    "os.chdir(annot_path)"
   ]
  },
  {
   "cell_type": "code",
   "execution_count": 3,
   "metadata": {},
   "outputs": [],
   "source": [
    "# parse xml to dataframe\n",
    "def parse_xml(xml_file_name):\n",
    "    tree = ET.parse(xml_file_name)  \n",
    "    root = tree.getroot()\n",
    "    lst=[]\n",
    "    for elems in root:\n",
    "        # print(elems.attrib)\n",
    "            for subelem in elems:\n",
    "                if subelem.attrib.get('label') != None:\n",
    "                    subelem.attrib.update(id=elems.attrib.get('id'))\n",
    "                    subelem.attrib.update(names=elems.attrib.get('name'))\n",
    "                    subelem.attrib.update(width=elems.attrib.get('width'))\n",
    "                    subelem.attrib.update(height=elems.attrib.get('height'))\n",
    "                    lst.append(subelem.attrib)\n",
    "    columns=subelem.attrib.keys()\n",
    "    df=pd.DataFrame(lst,columns=columns)\n",
    "    # df['names']=df.names.apply(lambda x: x.split('/')[1])\n",
    "    return df\n"
   ]
  },
  {
   "cell_type": "code",
   "execution_count": 4,
   "metadata": {},
   "outputs": [],
   "source": [
    "df_silas=parse_xml('construction_annotations_silas.xml')\n",
    "df_sudha=parse_xml('constructions_annotations_sudha.xml')\n",
    "df_andrew=parse_xml('construction_annotations_andrew.xml')\n",
    "df=pd.concat([df_andrew,df_sudha,df_silas])"
   ]
  },
  {
   "cell_type": "code",
   "execution_count": 7,
   "metadata": {},
   "outputs": [],
   "source": [
    "# standarize id\n",
    "df=df.drop('id',axis=1)\n",
    "# normalize file names remove '/'\n",
    "df['names']=[name.split('/')[1] if '/' in name else name.split('/')[0] for name in df.names.values]\n",
    "# add splits for train and val to df\n",
    "uniq_names=sorted(list(set(df.names)))\n",
    "size=len(uniq_names)\n",
    "t_size=.8\n",
    "v_size=1-t_size\n",
    "index_split=['train']*int(np.round(size*t_size,0))+['val']*int(np.round(size*v_size,0))\n",
    "shuffle(index_split)\n",
    "df1=pd.DataFrame()\n",
    "df1['id']=[i for i in range(df.names.unique().shape[0])]\n",
    "df1['split']=index_split\n",
    "df1['names']=uniq_names\n",
    "df_split=df.merge(df1, on='names')\n",
    "df_split=df_split[['label', 'xtl', 'ytl', 'xbr', 'ybr', 'occluded', 'id', 'names', 'width',\n",
    "       'height', 'split']]\n"
   ]
  },
  {
   "cell_type": "markdown",
   "metadata": {},
   "source": [
    "### quick look at df"
   ]
  },
  {
   "cell_type": "code",
   "execution_count": 8,
   "metadata": {},
   "outputs": [
    {
     "data": {
      "text/html": [
       "<div>\n",
       "<style scoped>\n",
       "    .dataframe tbody tr th:only-of-type {\n",
       "        vertical-align: middle;\n",
       "    }\n",
       "\n",
       "    .dataframe tbody tr th {\n",
       "        vertical-align: top;\n",
       "    }\n",
       "\n",
       "    .dataframe thead th {\n",
       "        text-align: right;\n",
       "    }\n",
       "</style>\n",
       "<table border=\"1\" class=\"dataframe\">\n",
       "  <thead>\n",
       "    <tr style=\"text-align: right;\">\n",
       "      <th></th>\n",
       "      <th>count</th>\n",
       "      <th>unique</th>\n",
       "      <th>top</th>\n",
       "      <th>freq</th>\n",
       "    </tr>\n",
       "  </thead>\n",
       "  <tbody>\n",
       "    <tr>\n",
       "      <th>label</th>\n",
       "      <td>8882</td>\n",
       "      <td>3</td>\n",
       "      <td>person</td>\n",
       "      <td>4421</td>\n",
       "    </tr>\n",
       "    <tr>\n",
       "      <th>names</th>\n",
       "      <td>8882</td>\n",
       "      <td>1009</td>\n",
       "      <td>Sequence07_339.jpeg</td>\n",
       "      <td>43</td>\n",
       "    </tr>\n",
       "    <tr>\n",
       "      <th>split</th>\n",
       "      <td>8882</td>\n",
       "      <td>2</td>\n",
       "      <td>train</td>\n",
       "      <td>6957</td>\n",
       "    </tr>\n",
       "  </tbody>\n",
       "</table>\n",
       "</div>"
      ],
      "text/plain": [
       "      count unique                  top  freq\n",
       "label  8882      3               person  4421\n",
       "names  8882   1009  Sequence07_339.jpeg    43\n",
       "split  8882      2                train  6957"
      ]
     },
     "execution_count": 8,
     "metadata": {},
     "output_type": "execute_result"
    }
   ],
   "source": [
    "df_split[['label','names','split']].describe().T"
   ]
  },
  {
   "cell_type": "code",
   "execution_count": 251,
   "metadata": {},
   "outputs": [
    {
     "data": {
      "text/plain": [
       "<matplotlib.axes._subplots.AxesSubplot at 0x7f2403b94358>"
      ]
     },
     "execution_count": 251,
     "metadata": {},
     "output_type": "execute_result"
    },
    {
     "data": {
      "image/png": "[encoded data removed]",
      "text/plain": [
       "<Figure size 720x360 with 1 Axes>"
      ]
     },
     "metadata": {
      "needs_background": "light"
     },
     "output_type": "display_data"
    }
   ],
   "source": [
    "pd.DataFrame([df_split.label.astype('category').cat.codes,df_split.label]).T.groupby(['label']).count().plot(figsize=(10,5),kind='bar',rot=.40, legend=False)\n",
    "# plot(kind='hist',index=['a','b'],xticks=None)"
   ]
  },
  {
   "cell_type": "markdown",
   "metadata": {},
   "source": [
    "### other formats"
   ]
  },
  {
   "cell_type": "code",
   "execution_count": 245,
   "metadata": {},
   "outputs": [],
   "source": [
    "# templates\n",
    "kitti_template = \"{label} 0.00 0 0.0 {xtl} {ytl} {xbr} {ybr} 0.0 0.0 0.0 0.0 0.0 0.0 0.0 0.0\"\n",
    "voc_pascal_template_outer= '  <image id=\"{}\" name=\"{}\" width=\"{}\" height=\"{}\">' \n",
    "voc_pascal_template_head='  <version>1.1</version>\\n  <meta>\\n    <task>\\n      <id>1</id>\\n      <name>ahl251</name>\\n      <size>{}</size>\\n      <mode>annotation</mode>\\n      <overlap>0</overlap>\\n      <bugtracker/>\\n      <flipped>False</flipped>\\n      <created>2019-03-30 23:40:47.695960+03:00</created>\\n      <updated>2019-03-31 06:51:49.089135+03:00</updated>\\n      <labels>\\n        <label>\\n          <name>person</name>\\n          <attributes> </attributes>\\n        </label>\\n          <label>\\n            <name>safetyvest</name>\\n            <attributes> </attributes>\\n        </label>\\n          <label>\\n            <name>hardhat</name>\\n            <attributes> </attributes>\\n        </label>\\n          </labels>\\n      <segments>\\n        <segment>\\n         <id>117</id>\\n         <start>0</start>\\n         <stop>{}</stop>\\n         <url>http://c.onepanel.io/?id=117</url>\\n        </segment>\\n      </segments>\\n      <owner>\\n        <username>admin</username>\\n        <email>admin@onepanel.io</email>\\n      </owner>\\n    </task>\\n    <dumped>2019-03-31 06:51:51.787681+03:00</dumped>\\n  </meta>'\n",
    "voc_pascal_template_inner= '    <box label=\"{}\" xtl=\"{}\" ytl=\"{}\" xbr=\"{}\" ybr=\"{}\" occluded=\"{}\"> </box>'\n",
    "template_test= '  <box label=\"{label}\" xtl=\"{xtl}\" ytl=\"{ytl}\" xbr=\"{xbr}\" ybr=\"{ybr}\" occluded=\"{occluded}\"> </box>'\n",
    "\n",
    "# for yolo see below"
   ]
  },
  {
   "cell_type": "markdown",
   "metadata": {},
   "source": [
    "### voc_pascal"
   ]
  },
  {
   "cell_type": "code",
   "execution_count": 121,
   "metadata": {},
   "outputs": [
    {
     "data": {
      "text/plain": [
       "'/home/silas/MIDS/W251/final_project/annotations/voc/images.zip'"
      ]
     },
     "execution_count": 121,
     "metadata": {},
     "output_type": "execute_result"
    }
   ],
   "source": [
    "df=df_split\n",
    "src_dir='all_images/'\n",
    "dst_dir_img = 'voc/images/'\n",
    "dst_dir_labels = 'voc/labels/'\n",
    "os.makedirs(dst_dir_img)\n",
    "os.makedirs(dst_dir_labels)\n",
    "\n",
    "xml_output=[]\n",
    "img_names=sorted(list(set(df.names)))\n",
    "for nm in img_names:\n",
    "    \n",
    "    shutil.copy(src_dir+nm, dst_dir_img)  # save valid images to voc dir\n",
    "    \n",
    "    header=list(df[df.names==nm].iloc[:,6:].values[0])\n",
    "    xml_output.append(voc_pascal_template_outer.format(*header))\n",
    "    rows=df[df.names==nm].iloc[:,:6].reset_index(drop=True)\n",
    "    for idx in range(rows.T.shape[1]):\n",
    "        row=list(rows.T[idx].values)\n",
    "        xml_output.append(voc_pascal_template_inner.format(*row))\n",
    "        if idx == rows.T.shape[1]-1:\n",
    "            xml_output.append('  </image>')\n",
    "\n",
    "with open(dst_dir_labels+\"construction_annotations_v1\" + \".xml\", \"w\") as text_file:\n",
    "    text_file.write(\"<annotations>\\n\")\n",
    "    text_file.write(voc_pascal_template_head.format(*[df.names.unique().shape[0]]*2))\n",
    "    text_file.write(\"\\n\".join(xml_output))\n",
    "    text_file.write(\"\\n</annotations>\")\n",
    "\n",
    "shutil.make_archive('voc/'+'images', 'zip', dst_dir_img)"
   ]
  },
  {
   "cell_type": "markdown",
   "metadata": {},
   "source": [
    "### kitti"
   ]
  },
  {
   "cell_type": "code",
   "execution_count": null,
   "metadata": {},
   "outputs": [],
   "source": [
    "# create file structure\n",
    "\n",
    "os.chdir('/home/silas/MIDS/W251/final_project/annotations/')\n",
    "os.makedirs('data/train/images')\n",
    "os.makedirs('data/train/labels')\n",
    "os.makedirs('data/val/images')\n",
    "os.makedirs('data/val/labels')\n",
    "\n",
    "def apply_split_kitti(df,split_type):\n",
    "    \"\"\"\n",
    "    Arg: split_type takes either 'train' or 'val'\n",
    "    Creates separate .txt files for each img annotation using kitti format\n",
    "    \"\"\"\n",
    "    split_type=split_type\n",
    "    # get all val\n",
    "    test_df=df_split[df_split.split==split_type]\n",
    "    # get all unique names of images in val\n",
    "    unique_lst=test_df.names.unique()\n",
    "    # get a dataframe representing a unique name of image\n",
    "    #tmp=df_test[df_test.names==img].reset_index(drop=True)\n",
    "    for img in unique_lst:\n",
    "    \n",
    "        filename=img.split('.')[0]\n",
    "    \n",
    "        tmp=test_df[test_df.names==img].reset_index(drop=True)\n",
    "    \n",
    "        for i in range(tmp.shape[0]):\n",
    "        \n",
    "            inner=kitti_template.format(**tmp.loc[i].to_dict())\n",
    "            completeName = os.path.join('data/{}/labels'.format(split_type), filename+\".txt\")\n",
    "        \n",
    "            with open(completeName, \"a\") as text_file:\n",
    "                text_file.write(inner+'\\n')\n",
    "        \n",
    "            src_dir='all_images/'\n",
    "            dst_dir = \"data/{}/images\".format(split_type)\n",
    "            shutil.copy(src_dir+img, dst_dir)\n",
    "            \n",
    "apply_split_kitti(df_split,'val')\n",
    "apply_split_kitti(df_split,'train')"
   ]
  },
  {
   "cell_type": "code",
   "execution_count": null,
   "metadata": {},
   "outputs": [],
   "source": [
    "\"\"\"\n",
    "# directory and file structure kitti\n",
    "\n",
    "all_images\n",
    "\n",
    "data\n",
    "    train\n",
    "        image\n",
    "            <name_of_image>.img\n",
    "        label\n",
    "            <name_of_label>.txt\n",
    "    val\n",
    "        image\n",
    "            <name_of_image>.img\n",
    "        label\n",
    "            <name_of_label>.txt\n",
    "\"\"\";"
   ]
  },
  {
   "cell_type": "markdown",
   "metadata": {},
   "source": [
    "### yolo"
   ]
  },
  {
   "cell_type": "code",
   "execution_count": 214,
   "metadata": {},
   "outputs": [],
   "source": [
    "def yolo_df(df):\n",
    "    df_yolo=pd.DataFrame()\n",
    "    df_yolo=df.iloc[:,1:5].astype('float')\n",
    "    df_yolo['label']=df.label.astype('category').cat.codes\n",
    "    df_yolo['name']=df.names\n",
    "    df_yolo['label_']=df.label\n",
    "    return df_yolo"
   ]
  },
  {
   "cell_type": "code",
   "execution_count": 235,
   "metadata": {},
   "outputs": [],
   "source": [
    "def yolo_format(df_yolo):\n",
    "    X1 = df_yolo['xtl']\n",
    "    X2 = df_yolo['xbr']\n",
    "    Y1 = df_yolo['ytl']\n",
    "    Y2 = df_yolo['ybr']\n",
    "    name=df_yolo.name\n",
    "    return df_yolo.label, (X1+(X2-X1)/2)/640, (Y1+(Y2-Y1)/2)/360, (X2-X1)/640, (Y2-Y1)/360, name"
   ]
  },
  {
   "cell_type": "code",
   "execution_count": null,
   "metadata": {},
   "outputs": [],
   "source": [
    "path=os.getcwd()\n",
    "os.makedirs(path+'/yolo/data/obj')\n",
    "df_y=yolo_df(df_split)\n",
    "obj_path=os.path.join(path, 'yolo','data', 'obj')\n",
    "\n",
    "# make all img .txt files and store in obj directory\n",
    "for un in df_y.name.unique():\n",
    "    df_tmp=df_y[df_y.name==un].reset_index(drop=True)\n",
    "    label,x,y,width,height,name=yolo_format(df_tmp)\n",
    "\n",
    "    for item in list(zip(label,x,y,width,height)):\n",
    "        row='{} {:2f} {:2f} {:2f} {:2f}'.format(item[0], item[1], item[2], item[3], item[4])\n",
    "        path_txt= os.path.join(obj_path, un.replace('.jpeg','.txt'))\n",
    "        \n",
    "        with open(path_txt, \"a\") as text_file:\n",
    "            text_file.write(row+'\\n')\n",
    "            \n",
    "        src_dir='all_images/'\n",
    "        shutil.copy(src_dir+un, obj_path) \n",
    "        \n",
    "# make train.txt\n",
    "for img in sorted([i for i in os.listdir(obj_path) if '.jpeg' in i]):\n",
    "    with open(os.path.join('yolo','data', 'train.txt'), \"a\") as train_txt:\n",
    "        train_txt.write(os.path.join('yolo','data', img)+'\\n')\n",
    "\n",
    "# write obj.data file \n",
    "objs='classes={}\\ntrain  = data/train.txt\\nvalid  = data/test.txt\\nnames = data/obj.names\\nbackup = backup/'.format(df_y.label.nunique())\n",
    "\n",
    "with open (os.path.join('yolo','data', 'obj.data'), \"a\") as obj_data:\n",
    "    obj_data.write(objs) \n",
    "\n",
    "# make obj.names file \n",
    "for labl in sorted(df_y.label_.unique()):\n",
    "    with open(os.path.join('yolo','data', 'obj.names'), \"a\") as text_file:\n",
    "            text_file.write(labl+'\\n')\n",
    "    with open(os.path.join(obj_path, 'classes.txt'), \"a\") as text_file:\n",
    "            text_file.write(labl+'\\n')"
   ]
  },
  {
   "cell_type": "code",
   "execution_count": null,
   "metadata": {},
   "outputs": [],
   "source": [
    "\"\"\"\n",
    "# yolo directory and file structure\n",
    "\n",
    "data\n",
    "    obj.names\n",
    "        person\n",
    "        hardhat\n",
    "        safetyvest\n",
    "    \n",
    "    \n",
    "    obj.data\n",
    "       '''\n",
    "       # write in file\n",
    "        classes= 2\n",
    "        train  = data/train.txt\n",
    "        valid  = data/test.txt\n",
    "        names = data/obj.names\n",
    "        backup = backup/\n",
    "       '''\n",
    "        \n",
    "    train.txt\n",
    "        data/obj/1.jpg\n",
    "        data/obj/2.jpg\n",
    "       \n",
    "        \n",
    "    obj/\n",
    "      1.jpg\n",
    "      1.txt  \n",
    "      2.jpg\n",
    "      2.txt\n",
    "\"\"\"   \n",
    "    "
   ]
  },
  {
   "cell_type": "markdown",
   "metadata": {},
   "source": [
    "### scraps to see bounding boxes on images"
   ]
  },
  {
   "cell_type": "code",
   "execution_count": null,
   "metadata": {},
   "outputs": [],
   "source": [
    "df_see=df_split.iloc[:,1:5].astype(float)\n",
    "xmin,ymin,xmax,ymax=df_see.loc[0].to_dict().values()"
   ]
  },
  {
   "cell_type": "code",
   "execution_count": null,
   "metadata": {},
   "outputs": [],
   "source": [
    "# take an example\n",
    "df_see['names']=df_split['names']\n",
    "bb1=df_see.loc[0][4]\n",
    "img=cv2.imread('all_images/{}'.format(bb1))"
   ]
  },
  {
   "cell_type": "code",
   "execution_count": null,
   "metadata": {},
   "outputs": [],
   "source": [
    "rect=cv2.rectangle(img,(int(xmin),int(ymin)),(int(xmax),int(ymax)),(100,0,0),1)"
   ]
  },
  {
   "cell_type": "code",
   "execution_count": null,
   "metadata": {},
   "outputs": [],
   "source": [
    "cv2.imshow('dst_rt', rect)\n",
    "cv2.waitKey(0)\n",
    "cv2.destroyAllWindows()"
   ]
  },
  {
   "cell_type": "code",
   "execution_count": null,
   "metadata": {},
   "outputs": [],
   "source": [
    "# self draw bbox with cv2\n",
    "r = cv2.selectROI(img)"
   ]
  }
 ],
 "metadata": {
  "kernelspec": {
   "display_name": "Python 3",
   "language": "python",
   "name": "python3"
  },
  "language_info": {
   "codemirror_mode": {
    "name": "ipython",
    "version": 3
   },
   "file_extension": ".py",
   "mimetype": "text/x-python",
   "name": "python",
   "nbconvert_exporter": "python",
   "pygments_lexer": "ipython3",
   "version": "3.6.7"
  }
 },
 "nbformat": 4,
 "nbformat_minor": 2
}
