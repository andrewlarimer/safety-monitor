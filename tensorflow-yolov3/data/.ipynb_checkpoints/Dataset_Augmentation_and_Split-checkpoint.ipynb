{
 "cells": [
  {
   "cell_type": "code",
   "execution_count": 31,
   "metadata": {},
   "outputs": [],
   "source": [
    "import re\n",
    "import numpy as np\n",
    "\n",
    "PERCENT_FOR_DEV = .15\n",
    "PERCENT_FOR_TEST = .1"
   ]
  },
  {
   "cell_type": "code",
   "execution_count": 32,
   "metadata": {},
   "outputs": [],
   "source": [
    "with open('../construction_dataset/dataset.txt','r') as f:\n",
    "    d = f.readlines()"
   ]
  },
  {
   "cell_type": "code",
   "execution_count": 79,
   "metadata": {},
   "outputs": [],
   "source": [
    "non_train_idxs = np.random.choice(range(0,len(d)),int(len(d)*(PERCENT_FOR_TEST + PERCENT_FOR_DEV)), replace=False)\n",
    "dev_percent_of_non_train = PERCENT_FOR_DEV / (PERCENT_FOR_DEV + PERCENT_FOR_TEST)\n",
    "dev_idxs = np.random.choice(non_train_idxs,int(len(non_train_idxs)*dev_percent_of_non_train), replace=False)\n",
    "dev_idxs_set = set(dev_idxs)\n",
    "non_train_set = set(non_train_idxs)"
   ]
  },
  {
   "cell_type": "code",
   "execution_count": 80,
   "metadata": {},
   "outputs": [],
   "source": [
    "directory='./construction_dataset/'\n",
    "\n",
    "train_list = []\n",
    "dev_list = []\n",
    "test_list = []\n",
    "\n",
    "for idx, line in enumerate(d):\n",
    "    L1 = re.sub('hardhat','0',line)\n",
    "    L2 = re.sub('person','1',L1)\n",
    "    L3 = re.sub('safetyvest','2',L2)\n",
    "    final_string = directory + L3\n",
    "    \n",
    "    if idx in non_train_set:\n",
    "        if idx in dev_idxs_set:\n",
    "            dev_list.append(final_string)\n",
    "        else:\n",
    "            test_list.append(final_string)\n",
    "    else:\n",
    "        train_list.append(final_string)"
   ]
  },
  {
   "cell_type": "code",
   "execution_count": null,
   "metadata": {},
   "outputs": [],
   "source": [
    "with open('construction_train.txt','w') as f:\n",
    "    f.writelines(train_list)\n",
    "\n",
    "with open('construction_dev.txt','w') as f:\n",
    "    f.writelines(test_list)\n",
    "    \n",
    "with open('construction_test.txt','w') as f:\n",
    "    f.writelines(dev_list)"
   ]
  },
  {
   "cell_type": "code",
   "execution_count": 92,
   "metadata": {},
   "outputs": [
    {
     "data": {
      "text/plain": [
       "['170.77',\n",
       " '86.40',\n",
       " '182.14',\n",
       " '98.57',\n",
       " 'safetyvest',\n",
       " '176.68',\n",
       " '115.60',\n",
       " '183.78',\n",
       " '121.30',\n",
       " 'hardhat',\n",
       " '160.99',\n",
       " '59.17',\n",
       " '169.45',\n",
       " '69.48',\n",
       " 'safetyvest',\n",
       " '170.27',\n",
       " '83.55',\n",
       " '183.42',\n",
       " '111.19',\n",
       " 'person',\n",
       " '157.00',\n",
       " '55.00',\n",
       " '171.00',\n",
       " '77.00',\n",
       " 'person',\n",
       " '172.38',\n",
       " '82.80',\n",
       " '179.58',\n",
       " '87.70',\n",
       " 'hardhat',\n",
       " '172.36',\n",
       " '119.98',\n",
       " '190.34',\n",
       " '135.85',\n",
       " 'safetyvest',\n",
       " '173.55',\n",
       " '115.79',\n",
       " '190.00',\n",
       " '148.69',\n",
       " 'person\\n']"
      ]
     },
     "execution_count": 92,
     "metadata": {},
     "output_type": "execute_result"
    }
   ],
   "source": [
    "item_list = d[12].split(' ')\n",
    "metronome = 0\n",
    "rewritten_list = [re.sub('.jpeg','__fliph.jpeg',item_list[0]]\n",
    "for idx,item in enumerate(item_list[1:]):\n",
    "    if metronome == 5:\n",
    "        metronome = 0\n",
    "        rewritten_list = rewritten_list + [new_xmin, ymin, new_xmax, ymax, class_id]\n",
    "    if metronome == 0:\n",
    "        new_xmax = 640-float(item)\n",
    "    elif metronome == 1:\n",
    "        ymin = item\n",
    "    elif metronome == 2:\n",
    "        new_xmin = 640-float(item)\n",
    "    elif metronome == 3:\n",
    "        ymax = item\n",
    "    elif metronome == 4:\n",
    "        class_id = item\n",
    "    metronome += 1"
   ]
  },
  {
   "cell_type": "code",
   "execution_count": null,
   "metadata": {},
   "outputs": [],
   "source": []
  }
 ],
 "metadata": {
  "kernelspec": {
   "display_name": "Python 3",
   "language": "python",
   "name": "python3"
  },
  "language_info": {
   "codemirror_mode": {
    "name": "ipython",
    "version": 3
   },
   "file_extension": ".py",
   "mimetype": "text/x-python",
   "name": "python",
   "nbconvert_exporter": "python",
   "pygments_lexer": "ipython3",
   "version": "3.7.1"
  }
 },
 "nbformat": 4,
 "nbformat_minor": 2
}
