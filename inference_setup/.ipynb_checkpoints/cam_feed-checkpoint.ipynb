{
 "cells": [
  {
   "cell_type": "code",
   "execution_count": 2,
   "metadata": {},
   "outputs": [
    {
     "ename": "ImportError",
     "evalue": "/usr/local/lib/python3.5/site-packages/cv2.cpython-35m-aarch64-linux-gnu.so: undefined symbol: _ZTIN2cv3dnn19experimental_dnn_v35LayerE",
     "output_type": "error",
     "traceback": [
      "\u001b[0;31m---------------------------------------------------------------------------\u001b[0m",
      "\u001b[0;31mImportError\u001b[0m                               Traceback (most recent call last)",
      "\u001b[0;32m<ipython-input-2-ac16813f3bde>\u001b[0m in \u001b[0;36m<module>\u001b[0;34m\u001b[0m\n\u001b[0;32m----> 1\u001b[0;31m \u001b[0;32mimport\u001b[0m \u001b[0mcv2\u001b[0m \u001b[0;32mas\u001b[0m \u001b[0mcv\u001b[0m\u001b[0;34m\u001b[0m\u001b[0m\n\u001b[0m\u001b[1;32m      2\u001b[0m \u001b[0;32mimport\u001b[0m \u001b[0mos\u001b[0m\u001b[0;34m\u001b[0m\u001b[0m\n\u001b[1;32m      3\u001b[0m \u001b[0;32mimport\u001b[0m \u001b[0mnumpy\u001b[0m \u001b[0;32mas\u001b[0m \u001b[0mnp\u001b[0m\u001b[0;34m\u001b[0m\u001b[0m\n\u001b[1;32m      4\u001b[0m \u001b[0;32mimport\u001b[0m \u001b[0mtime\u001b[0m\u001b[0;34m\u001b[0m\u001b[0m\n\u001b[1;32m      5\u001b[0m \u001b[0;32mimport\u001b[0m \u001b[0mdatetime\u001b[0m\u001b[0;34m\u001b[0m\u001b[0m\n",
      "\u001b[0;31mImportError\u001b[0m: /usr/local/lib/python3.5/site-packages/cv2.cpython-35m-aarch64-linux-gnu.so: undefined symbol: _ZTIN2cv3dnn19experimental_dnn_v35LayerE"
     ]
    }
   ],
   "source": [
    "import cv2 as cv\n",
    "import os\n",
    "import numpy as np\n",
    "import time\n",
    "import datetime\n",
    "import random as rnd\n",
    "import os\n",
    "import sys\n",
    "from yolo import YOLO, detect_video\n",
    "from PIL import Image\n",
    "import random as rnd"
   ]
  },
  {
   "cell_type": "code",
   "execution_count": null,
   "metadata": {},
   "outputs": [],
   "source": [
    "PATH_TO_VIDEO_STREAM = 'cv2/images'\n",
    "# os.makedirs(PATH_TO_VIDEO_STREAM)"
   ]
  },
  {
   "cell_type": "code",
   "execution_count": null,
   "metadata": {},
   "outputs": [],
   "source": [
    "top = 140  # padding settings\n",
    "bottom = top\n",
    "\n",
    "while(True):\n",
    "    cap = cv.VideoCapture(1)\n",
    "    \n",
    "    # Check success\n",
    "    if not cap.isOpened():\n",
    "        raise Exception(\"Could not open video device\")\n",
    "    \n",
    "    # Set properties. Each returns === True on success (i.e. correct resolution)\n",
    "    cap.set(cv.CAP_PROP_FRAME_WIDTH, 640)\n",
    "    cap.set(cv.CAP_PROP_FRAME_HEIGHT, 360)\n",
    "\n",
    "    # Capture frame-by-frame every n seconds:\n",
    "    n_sec=5\n",
    "    ret, frame = cap.read()\n",
    "    cap.release()\n",
    "    ts = time.time()\n",
    "    st = datetime.datetime.fromtimestamp(ts).strftime('%Y-%m-%d %H:%M:%S')\n",
    "    filename = './cv2/images/' + st + \".png\"\n",
    "    cv.imshow('safety cam', frame)\n",
    "    # adds padding\n",
    "    top_bottom_padding=cv.copyMakeBorder(frame, top, bottom, 0, 0, cv.BORDER_CONSTANT)\n",
    "    cv.imwrite(filename, top_bottom_padding)\n",
    "    time.sleep(n_sec)\n",
    "\n",
    "    \n",
    "    # keeps img store to a size set in store_max:\n",
    "    store_max_size=2**20\n",
    "    clip_lst = sorted(os.listdir(PATH_TO_VIDEO_STREAM))\n",
    "    file_size=0\n",
    "    for clip in clip_lst:\n",
    "        c=os.path.getsize(os.path.join(PATH_TO_VIDEO_STREAM,clip))\n",
    "        file_size+=c\n",
    "    avg_file_size=file_size/len(clip_lst)\n",
    "    imgs_to_remove=max(int((file_size-store_max_size)/avg_file_size),0)\n",
    "    if imgs_to_remove>0:\n",
    "        remove_lst=clip_lst[:imgs_to_remove]\n",
    "        [os.remove(os.path.join(PATH_TO_VIDEO_STREAM, rem)) for rem in remove_lst]\n",
    "    \n",
    "    \n",
    "    \n",
    "    if cv.waitKey(1) & 0xFF == ord('q'):\n",
    "        break\n",
    "\n",
    "# When everything done, release the capture\n",
    "cap.release()\n",
    "cv.destroyAllWindows()"
   ]
  },
  {
   "cell_type": "code",
   "execution_count": null,
   "metadata": {},
   "outputs": [],
   "source": [
    "img_lst=os.listdir(PATH_TO_VIDEO_STREAM)"
   ]
  },
  {
   "cell_type": "code",
   "execution_count": null,
   "metadata": {},
   "outputs": [],
   "source": [
    "img_path_name=os.path.join(PATH_TO_VIDEO_STREAM, img_lst[0])"
   ]
  },
  {
   "cell_type": "code",
   "execution_count": null,
   "metadata": {},
   "outputs": [],
   "source": [
    "top = 140  # padding settings\n",
    "bottom = top\n",
    "yoLo=YOLO() # takes a while to load"
   ]
  },
  {
   "cell_type": "code",
   "execution_count": 3,
   "metadata": {},
   "outputs": [
    {
     "ename": "NameError",
     "evalue": "name 'cv' is not defined",
     "output_type": "error",
     "traceback": [
      "\u001b[0;31m---------------------------------------------------------------------------\u001b[0m",
      "\u001b[0;31mNameError\u001b[0m                                 Traceback (most recent call last)",
      "\u001b[0;32m<ipython-input-3-65bc1f936e71>\u001b[0m in \u001b[0;36m<module>\u001b[0;34m\u001b[0m\n\u001b[1;32m      3\u001b[0m \u001b[0mst\u001b[0m\u001b[0;34m=\u001b[0m\u001b[0;34m'test'\u001b[0m\u001b[0;34m\u001b[0m\u001b[0m\n\u001b[1;32m      4\u001b[0m \u001b[0mfilename\u001b[0m \u001b[0;34m=\u001b[0m \u001b[0;34m'./cv2/images/'\u001b[0m \u001b[0;34m+\u001b[0m \u001b[0mst\u001b[0m \u001b[0;34m+\u001b[0m \u001b[0;34m\".png\"\u001b[0m\u001b[0;34m\u001b[0m\u001b[0m\n\u001b[0;32m----> 5\u001b[0;31m \u001b[0mvid\u001b[0m\u001b[0;34m=\u001b[0m\u001b[0mcv\u001b[0m\u001b[0;34m.\u001b[0m\u001b[0mVideoCapture\u001b[0m\u001b[0;34m(\u001b[0m\u001b[0;36m1\u001b[0m\u001b[0;34m)\u001b[0m\u001b[0;34m\u001b[0m\u001b[0m\n\u001b[0m\u001b[1;32m      6\u001b[0m \u001b[0mvid\u001b[0m\u001b[0;34m.\u001b[0m\u001b[0mset\u001b[0m\u001b[0;34m(\u001b[0m\u001b[0mcv\u001b[0m\u001b[0;34m.\u001b[0m\u001b[0mCAP_PROP_FRAME_WIDTH\u001b[0m\u001b[0;34m,\u001b[0m \u001b[0;36m640\u001b[0m\u001b[0;34m)\u001b[0m\u001b[0;34m\u001b[0m\u001b[0m\n\u001b[1;32m      7\u001b[0m \u001b[0mvid\u001b[0m\u001b[0;34m.\u001b[0m\u001b[0mset\u001b[0m\u001b[0;34m(\u001b[0m\u001b[0mcv\u001b[0m\u001b[0;34m.\u001b[0m\u001b[0mCAP_PROP_FRAME_HEIGHT\u001b[0m\u001b[0;34m,\u001b[0m \u001b[0;36m360\u001b[0m\u001b[0;34m)\u001b[0m\u001b[0;34m\u001b[0m\u001b[0m\n",
      "\u001b[0;31mNameError\u001b[0m: name 'cv' is not defined"
     ]
    }
   ],
   "source": [
    "#ts = time.time()\n",
    "#st = datetime.datetime.fromtimestamp(ts).strftime('%Y-%m-%d %H:%M:%S')\n",
    "st='test'\n",
    "filename = './cv2/images/' + st + \".png\"\n",
    "vid=cv.VideoCapture(1)\n",
    "vid.set(cv.CAP_PROP_FRAME_WIDTH, 640)\n",
    "vid.set(cv.CAP_PROP_FRAME_HEIGHT, 360)\n",
    "return_value, frame = vid.read()\n",
    "vid.release()\n",
    "frame_pad=cv.copyMakeBorder(frame, top, bottom, 0, 0, cv.BORDER_CONSTANT)\n",
    "cv.imwrite(filename, frame_pad)\n",
    "image = Image.fromarray(frame_pad)\n",
    "r_image = yoLo.detect_image(image= image, filename=img_path_name)"
   ]
  },
  {
   "cell_type": "code",
   "execution_count": null,
   "metadata": {},
   "outputs": [],
   "source": [
    "for r_img in r_image:\n",
    "    # print(r_img)\n",
    "    num1=rnd.randint(0,255)\n",
    "    num2=rnd.randint(0,255)\n",
    "    cv.rectangle(frame_pad,r_img[-2],r_img[-1],(num1,num2,255),4)\n",
    "    cv.putText(frame_pad, r_img[1].split(' ')[0],r_img[-2], font, 1, (num1,num2,255), 4, cv.LINE_AA)\n",
    "\n",
    "font = cv.FONT_HERSHEY_SIMPLEX\n",
    "cv.imshow(filename, frame_pad)\n",
    "cv.waitKey(0)\n",
    "cv.destroyAllWindows()"
   ]
  }
 ],
 "metadata": {
  "kernelspec": {
   "display_name": "Python 2",
   "language": "python",
   "name": "python2"
  },
  "language_info": {
   "codemirror_mode": {
    "name": "ipython",
    "version": 3
   },
   "file_extension": ".py",
   "mimetype": "text/x-python",
   "name": "python",
   "nbconvert_exporter": "python",
   "pygments_lexer": "ipython3",
   "version": "3.5.2"
  }
 },
 "nbformat": 4,
 "nbformat_minor": 2
}
